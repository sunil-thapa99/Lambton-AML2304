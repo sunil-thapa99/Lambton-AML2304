{
 "cells": [
  {
   "cell_type": "code",
   "execution_count": 1,
   "metadata": {},
   "outputs": [],
   "source": [
    "import nltk"
   ]
  },
  {
   "cell_type": "code",
   "execution_count": 2,
   "metadata": {},
   "outputs": [],
   "source": [
    "import re"
   ]
  },
  {
   "cell_type": "code",
   "execution_count": 3,
   "metadata": {},
   "outputs": [],
   "source": [
    "tweet = 'Hello guys, this is my first #tweet. Check this @joy! #nlp #machine #learning'"
   ]
  },
  {
   "cell_type": "code",
   "execution_count": 5,
   "metadata": {},
   "outputs": [
    {
     "name": "stdout",
     "output_type": "stream",
     "text": [
      "<class 'list'> ['#', '#', '#', '#'] 4\n"
     ]
    }
   ],
   "source": [
    "find_hastag = re.findall('#', tweet)\n",
    "print(type(find_hastag), find_hastag, len(find_hastag))"
   ]
  },
  {
   "cell_type": "code",
   "execution_count": 72,
   "metadata": {},
   "outputs": [
    {
     "name": "stdout",
     "output_type": "stream",
     "text": [
      "['The']\n",
      "[]\n"
     ]
    }
   ],
   "source": [
    "text = \"The categorical cat hello mycat.\"\n",
    "text1 = \"categorical cat hello mycat\"\n",
    "print(re.findall(r'\\AThe', text)) # Starting of string\n",
    "print(re.findall(r'\\AThe', text1))"
   ]
  },
  {
   "cell_type": "code",
   "execution_count": 14,
   "metadata": {},
   "outputs": [],
   "source": [
    "text = 'categorical cat hello mycat'"
   ]
  },
  {
   "cell_type": "code",
   "execution_count": 15,
   "metadata": {},
   "outputs": [
    {
     "data": {
      "text/plain": [
       "['cat', 'cat']"
      ]
     },
     "execution_count": 15,
     "metadata": {},
     "output_type": "execute_result"
    }
   ],
   "source": [
    "re.findall(r'\\bcat', text) #\\b... means finding word that matches the specified characted"
   ]
  },
  {
   "cell_type": "code",
   "execution_count": 16,
   "metadata": {},
   "outputs": [
    {
     "data": {
      "text/plain": [
       "['cat', 'cat']"
      ]
     },
     "execution_count": 16,
     "metadata": {},
     "output_type": "execute_result"
    }
   ],
   "source": [
    "re.findall(r'cat\\b', text) # search specifies character at the end"
   ]
  },
  {
   "cell_type": "code",
   "execution_count": 17,
   "metadata": {},
   "outputs": [
    {
     "data": {
      "text/plain": [
       "['cat']"
      ]
     },
     "execution_count": 17,
     "metadata": {},
     "output_type": "execute_result"
    }
   ],
   "source": [
    "re.findall(r'\\bcat\\b', text) # startng and ending with cat"
   ]
  },
  {
   "cell_type": "code",
   "execution_count": 22,
   "metadata": {},
   "outputs": [
    {
     "data": {
      "text/plain": [
       "<callable_iterator at 0x1641ceee0>"
      ]
     },
     "execution_count": 22,
     "metadata": {},
     "output_type": "execute_result"
    }
   ],
   "source": [
    "re.finditer(r'cat\\b', text)"
   ]
  },
  {
   "cell_type": "code",
   "execution_count": 21,
   "metadata": {},
   "outputs": [
    {
     "data": {
      "text/plain": [
       "[('cat', 12, 15), ('cat', 24, 27)]"
      ]
     },
     "execution_count": 21,
     "metadata": {},
     "output_type": "execute_result"
    }
   ],
   "source": [
    "[(text[m.start(0): m.end(0)], m.start(0), m.end(0)) for m in re.finditer(r'cat\\b', text)]"
   ]
  },
  {
   "cell_type": "code",
   "execution_count": 24,
   "metadata": {},
   "outputs": [
    {
     "data": {
      "text/plain": [
       "(12, 15)"
      ]
     },
     "execution_count": 24,
     "metadata": {},
     "output_type": "execute_result"
    }
   ],
   "source": [
    "re.search(r'cat\\b', text).start(), re.search(r'cat\\b', text).end()"
   ]
  },
  {
   "cell_type": "code",
   "execution_count": 74,
   "metadata": {},
   "outputs": [
    {
     "name": "stdout",
     "output_type": "stream",
     "text": [
      "categorical\n",
      "cat\n",
      "mycat.\n"
     ]
    }
   ],
   "source": [
    "for t in text.split(' '):\n",
    "    if 'cat' in t:\n",
    "        print(t)\n",
    "    # pattern_return = re.search(r'(.*)cat(.*)', t)\n",
    "    # if pattern_return:\n",
    "    #     print(pattern_return.group(0))"
   ]
  },
  {
   "cell_type": "code",
   "execution_count": 59,
   "metadata": {},
   "outputs": [
    {
     "name": "stdout",
     "output_type": "stream",
     "text": [
      "['zi']\n",
      "[]\n"
     ]
    }
   ],
   "source": [
    "text1 = 'This is an amazing classroom, every one speaks ENGLISH zigkjgkj!'\n",
    "text2 = 'This is a good classroom, every one speaks ENGLISH zigkjgkj!'\n",
    "print(re.findall(r'\\Bzi', text1)) # return if not at the begining of the word [returned from amazing]\n",
    "print(re.findall(r'\\Bzi', text2)) # since zi is at the begining it return []"
   ]
  },
  {
   "cell_type": "code",
   "execution_count": 46,
   "metadata": {},
   "outputs": [
    {
     "data": {
      "text/plain": [
       "['class']"
      ]
     },
     "execution_count": 46,
     "metadata": {},
     "output_type": "execute_result"
    }
   ],
   "source": [
    "text2 = 'This is an amazing classroom, every one speaks ENGLISH. ThHis is Highclass'\n",
    "re.findall(r'\\Bclass', text2) # The output is from highclass"
   ]
  },
  {
   "cell_type": "code",
   "execution_count": 64,
   "metadata": {},
   "outputs": [
    {
     "data": {
      "text/plain": [
       "['class', 'class']"
      ]
     },
     "execution_count": 64,
     "metadata": {},
     "output_type": "execute_result"
    }
   ],
   "source": [
    "text = \"This is an amazing classroom, every one speaks ENGLISH. classy !!\"\n",
    "re.findall(r'class\\B', text) # Return word where class is not at the end"
   ]
  },
  {
   "cell_type": "code",
   "execution_count": 69,
   "metadata": {},
   "outputs": [
    {
     "data": {
      "text/plain": [
       "['class']"
      ]
     },
     "execution_count": 69,
     "metadata": {},
     "output_type": "execute_result"
    }
   ],
   "source": [
    "text = \"This is an amazing classroom, every one speaks ENGLISH. classy highclassroom !!\"\n",
    "re.findall(r'\\Bclass\\B', text) # Return word where class is not at the begining and not at the end"
   ]
  },
  {
   "cell_type": "code",
   "execution_count": 76,
   "metadata": {},
   "outputs": [
    {
     "data": {
      "text/plain": [
       "['9', '5', '1', '2', '3']"
      ]
     },
     "execution_count": 76,
     "metadata": {},
     "output_type": "execute_result"
    }
   ],
   "source": [
    "text2 = 'This is an 9amazing 5classroom, every one speaks ENGLISH 123. classy !'\n",
    "re.findall('\\d', text2) # the digits are returned!"
   ]
  },
  {
   "cell_type": "code",
   "execution_count": 79,
   "metadata": {},
   "outputs": [
    {
     "name": "stdout",
     "output_type": "stream",
     "text": [
      "['T', 'h', 'i', 's', ' ', 'i', 's', ' ', 'a', 'n', ' ', 'a', 'm', 'a', 'z', 'i', 'n', 'g', ' ', 'c', 'l', 'a', 's', 's', 'r', 'o', 'o', 'm', ',', ' ', 'e', 'v', 'e', 'r', 'y', ' ', 'o', 'n', 'e', ' ', 's', 'p', 'e', 'a', 'k', 's', ' ', 'E', 'N', 'G', 'L', 'I', 'S', 'H', ' ', '.', ' ', 'c', 'l', 'a', 's', 's', 'y', ' ', '!', '!']\n"
     ]
    }
   ],
   "source": [
    "text = \"This is an amazing classroom, every one speaks ENGLISH 123. classy !!\"\n",
    "print(re.findall('\\D', text)) # the non-digits are returned"
   ]
  },
  {
   "cell_type": "code",
   "execution_count": 81,
   "metadata": {},
   "outputs": [
    {
     "data": {
      "text/plain": [
       "11"
      ]
     },
     "execution_count": 81,
     "metadata": {},
     "output_type": "execute_result"
    }
   ],
   "source": [
    "# count the number of white spaces\n",
    "len(re.findall(\" \", text))"
   ]
  },
  {
   "cell_type": "code",
   "execution_count": 82,
   "metadata": {},
   "outputs": [
    {
     "name": "stdout",
     "output_type": "stream",
     "text": [
      "[' ', ' ', ' ', ' ', ' ', ' ', ' ', ' ', ' ', ' ', ' ']\n",
      "11\n"
     ]
    }
   ],
   "source": [
    "print(re.findall('\\s', text)) # return all the white spaces\n",
    "print(len(re.findall('\\s', text))) # count all the white spaces"
   ]
  },
  {
   "cell_type": "code",
   "execution_count": 83,
   "metadata": {},
   "outputs": [
    {
     "data": {
      "text/plain": [
       "11"
      ]
     },
     "execution_count": 83,
     "metadata": {},
     "output_type": "execute_result"
    }
   ],
   "source": [
    "text.count(' ')"
   ]
  },
  {
   "cell_type": "code",
   "execution_count": 84,
   "metadata": {},
   "outputs": [
    {
     "name": "stdout",
     "output_type": "stream",
     "text": [
      "['T', 'h', 'i', 's', 'i', 's', 'a', 'n', 'a', 'm', 'a', 'z', 'i', 'n', 'g', 'c', 'l', 'a', 's', 's', 'r', 'o', 'o', 'm', ',', 'e', 'v', 'e', 'r', 'y', 'o', 'n', 'e', 's', 'p', 'e', 'a', 'k', 's', 'E', 'N', 'G', 'L', 'I', 'S', 'H', '1', '2', '3', '.', 'c', 'l', 'a', 's', 's', 'y', '!', '!']\n",
      "58\n"
     ]
    }
   ],
   "source": [
    "print(re.findall('\\S', text)) # return all letters that are not WHITE SPACE\n",
    "print(len(re.findall('\\S', text)))"
   ]
  },
  {
   "cell_type": "code",
   "execution_count": 87,
   "metadata": {},
   "outputs": [
    {
     "name": "stdout",
     "output_type": "stream",
     "text": [
      "['T', 'h', 'i', 's', 'i', 's', 'a', 'n', 'a', 'm', 'a', 'z', 'i', 'n', 'g', 'c', 'l', 'a', 's', 's', '_', 'r', 'o', 'o', 'm', 'e', 'v', 'e', 'r', 'y', 'o', 'n', 'e', 's', 'p', 'e', 'a', 'k', 's', 'E', 'N', 'G', 'L', 'I', 'S', 'H', '1', '2', '3', 'c', 'l', 'a', 's', 's', 'y']\n",
      "55\n"
     ]
    }
   ],
   "source": [
    "text = \"This is an amazing class_room, every one speaks ENGLISH 123. classy !!\"\n",
    "print(re.findall('\\w', text)) # . and , from the above example are not included but _ is included with alphanumeric values\n",
    "print(len(re.findall('\\w', text)))"
   ]
  },
  {
   "cell_type": "code",
   "execution_count": 90,
   "metadata": {},
   "outputs": [
    {
     "name": "stdout",
     "output_type": "stream",
     "text": [
      "[' ', ' ', ' ', ' ', ',', ' ', ' ', ' ', ' ', '*', ' ', '.', ' ', ' ', '!', '!']\n",
      "16\n"
     ]
    }
   ],
   "source": [
    "text = \"This is an amazing class_room, every one speaks ENGL*ISH 123. classy !!\"\n",
    "print(re.findall('\\W', text))\n",
    "print(len(re.findall('\\W', text)))"
   ]
  },
  {
   "cell_type": "code",
   "execution_count": 93,
   "metadata": {},
   "outputs": [
    {
     "name": "stdout",
     "output_type": "stream",
     "text": [
      "['classy']\n",
      "1\n"
     ]
    }
   ],
   "source": [
    "text = \"This is an amazing class_room, every one speaks ENGL*ISH 123. classy\"\n",
    "print(re.findall('classy\\Z', text)) # return the word (the word classy in this example) if at the end\n",
    "print(len(re.findall('classy\\Z', text)))"
   ]
  },
  {
   "cell_type": "code",
   "execution_count": 97,
   "metadata": {},
   "outputs": [
    {
     "name": "stdout",
     "output_type": "stream",
     "text": [
      "['n', 'm', 'n', 'o', 'o', 'm', 'o', 'n', 'p', 'q']\n",
      "10\n"
     ]
    }
   ],
   "source": [
    "text = \"This is an amazing class_room, every one speaks ENGL*ISH 123. q.classy\"\n",
    "print(re.findall('[m-q]', text))\n",
    "print(len(re.findall('[m-q]', text)))"
   ]
  },
  {
   "cell_type": "code",
   "execution_count": 108,
   "metadata": {},
   "outputs": [
    {
     "name": "stdout",
     "output_type": "stream",
     "text": [
      "['class', 'class', 'c  1s']\n",
      "3\n"
     ]
    }
   ],
   "source": [
    "text = \"This is an amazing class_room, every one speaks ENGL*ISH 123. classy c  1s\"\n",
    "print(re.findall('c...s', text))\n",
    "print(len(re.findall('c...s', text)))"
   ]
  },
  {
   "cell_type": "code",
   "execution_count": 112,
   "metadata": {},
   "outputs": [
    {
     "name": "stdout",
     "output_type": "stream",
     "text": [
      "['Th']\n",
      "1\n"
     ]
    }
   ],
   "source": [
    "text = \"This is an amazing class_room, every one speaks ENGL*ISH 123. classy The c  1s\"\n",
    "print(re.findall('^Th', text)) # Looks for the string not words\n",
    "print(len(re.findall('^Th', text)))"
   ]
  },
  {
   "cell_type": "code",
   "execution_count": 113,
   "metadata": {},
   "outputs": [
    {
     "name": "stdout",
     "output_type": "stream",
     "text": [
      "[]\n",
      "0\n"
     ]
    }
   ],
   "source": [
    "text = \"Tat is an amazing class_room, every one speaks ENGL*ISH 123. classy The c  1s\"\n",
    "print(re.findall('^Th', text)) # Looks for the string not words\n",
    "print(len(re.findall('^Th', text)))"
   ]
  },
  {
   "cell_type": "code",
   "execution_count": 114,
   "metadata": {},
   "outputs": [
    {
     "name": "stdout",
     "output_type": "stream",
     "text": [
      "['T']\n",
      "1\n"
     ]
    }
   ],
   "source": [
    "text = \"Tat is an amazing class_room, every one speaks ENGL*ISH 123. classy The c  1s\"\n",
    "print(re.findall('^A|^T', text)) # Looks for the string not words\n",
    "print(len(re.findall('^A|^T', text)))"
   ]
  },
  {
   "cell_type": "code",
   "execution_count": 117,
   "metadata": {},
   "outputs": [
    {
     "name": "stdout",
     "output_type": "stream",
     "text": [
      "['+', '+', '+']\n",
      "3\n"
     ]
    }
   ],
   "source": [
    "text = \"This is an amazing++ class_room, @every #one *speaks !ENGLISH |123. classy c +/ s\"\n",
    "print(re.findall('[+]', text)) # [] Look at the string\n",
    "print(len(re.findall('[+]', text)))"
   ]
  },
  {
   "cell_type": "code",
   "execution_count": 121,
   "metadata": {},
   "outputs": [
    {
     "data": {
      "text/plain": [
       "'\\n    [^arn] -> returns a match for any characters EXCEPT a, r, and n\\n    ^Th -> Looks for string that starts with Th\\n\\n    [0-5][0-9] -> Returns a match for any two-digit numbers from 00 and 59\\n\\n'"
      ]
     },
     "execution_count": 121,
     "metadata": {},
     "output_type": "execute_result"
    }
   ],
   "source": [
    "'''\n",
    "    [^arn] -> returns a match for any characters EXCEPT a, r, and n\n",
    "    ^Th -> Looks for string that starts with Th\n",
    "\n",
    "    [0-5][0-9] -> Returns a match for any two-digit numbers from 00 and 59\n",
    "\n",
    "'''"
   ]
  },
  {
   "cell_type": "code",
   "execution_count": 122,
   "metadata": {},
   "outputs": [],
   "source": [
    "text = 'hello 12 hi 89. Howdy 34'"
   ]
  },
  {
   "cell_type": "code",
   "execution_count": 124,
   "metadata": {},
   "outputs": [
    {
     "name": "stdout",
     "output_type": "stream",
     "text": [
      "['12', '89', '34']\n"
     ]
    }
   ],
   "source": [
    "pattern = '\\d+'\n",
    "result = re.findall(pattern, text)\n",
    "print(result)"
   ]
  },
  {
   "cell_type": "code",
   "execution_count": 125,
   "metadata": {},
   "outputs": [
    {
     "name": "stdout",
     "output_type": "stream",
     "text": [
      "['1', '2', '8', '9', '3', '4']\n"
     ]
    }
   ],
   "source": [
    "result = re.findall('\\d', text)\n",
    "print(result)"
   ]
  },
  {
   "cell_type": "code",
   "execution_count": 128,
   "metadata": {},
   "outputs": [
    {
     "name": "stdout",
     "output_type": "stream",
     "text": [
      "['123', '89']\n"
     ]
    }
   ],
   "source": [
    "result = re.findall('\\d+', 'hello 123 hi 89.')\n",
    "print(result)"
   ]
  },
  {
   "cell_type": "code",
   "execution_count": 130,
   "metadata": {},
   "outputs": [
    {
     "name": "stdout",
     "output_type": "stream",
     "text": [
      "abc12de23f456\n"
     ]
    }
   ],
   "source": [
    "text = 'abc 12 de 23 f45 6'\n",
    "pattern = '\\s+'\n",
    "replace = ''\n",
    "new_text = re.sub(pattern, replace, text)\n",
    "print(new_text)"
   ]
  },
  {
   "cell_type": "code",
   "execution_count": 131,
   "metadata": {},
   "outputs": [
    {
     "name": "stdout",
     "output_type": "stream",
     "text": [
      "abc12de23f456\n"
     ]
    }
   ],
   "source": [
    "text = 'abc 12 de 23 f45 6'\n",
    "pattern = '\\s'\n",
    "replace = ''\n",
    "new_text = re.sub(pattern, replace, text)\n",
    "print(new_text)"
   ]
  },
  {
   "cell_type": "code",
   "execution_count": 134,
   "metadata": {},
   "outputs": [],
   "source": [
    "text = '#UNSG @ NY Society for Ethical Culture bit.ly/2guVelr @UN @UN_Women'"
   ]
  },
  {
   "cell_type": "code",
   "execution_count": 135,
   "metadata": {},
   "outputs": [
    {
     "data": {
      "text/plain": [
       "['@UN', '@UN_Women']"
      ]
     },
     "execution_count": 135,
     "metadata": {},
     "output_type": "execute_result"
    }
   ],
   "source": [
    "tokens = text.split()\n",
    "[w for w in tokens if re.search('@[a-zA-Z]+', w)]"
   ]
  },
  {
   "cell_type": "code",
   "execution_count": 136,
   "metadata": {},
   "outputs": [],
   "source": [
    "time_sentences = \"Monday: The doctor's appointment is at 2:45pm. Tuesday: The dentist's appointment is at 11:30 am\""
   ]
  },
  {
   "cell_type": "code",
   "execution_count": 142,
   "metadata": {},
   "outputs": [
    {
     "name": "stdout",
     "output_type": "stream",
     "text": [
      "[('2', '45'), ('11', '30')]\n",
      "[('11', '30')]\n"
     ]
    }
   ],
   "source": [
    "# A regular expression followed by a ? matches zero or one occurance of the one-character regular expression\n",
    "print(re.findall(r'(\\d?\\d):(\\d\\d)', time_sentences))\n",
    "print(re.findall(r'(\\d\\d):(\\d\\d)', time_sentences))"
   ]
  },
  {
   "cell_type": "code",
   "execution_count": 144,
   "metadata": {},
   "outputs": [
    {
     "name": "stdout",
     "output_type": "stream",
     "text": [
      "[('32', '45'), ('11', '30')]\n",
      "[('1232', '45'), ('11', '30')]\n"
     ]
    }
   ],
   "source": [
    "time_sentences = \"Monday: The doctor's appointment is at 1232:45pm. Tuesday: The dentist's appointment is at 11:30 am\"\n",
    "print(re.findall(r'(\\d?\\d):(\\d\\d)', time_sentences))\n",
    "print(re.findall(r'(\\d*\\d):(\\d\\d)', time_sentences))"
   ]
  },
  {
   "cell_type": "code",
   "execution_count": 157,
   "metadata": {},
   "outputs": [
    {
     "name": "stdout",
     "output_type": "stream",
     "text": [
      "1 [('1', '30'), ('12', '30'), ('1', '5'), ('12', '5')]\n",
      "2 [('12', '30')]\n",
      "3 [('1', '30'), ('12', '30')]\n",
      "4 [('12', '30'), ('12', '5')]\n",
      "5 [(' 1', '5')]\n",
      "5 [(' 1', '30'), (' 12', '30'), (' 1', '5')]\n"
     ]
    }
   ],
   "source": [
    "text = '\\year 1:30   no 12:30  maybe 1:5  test me 12:5'\n",
    "print(1, re.findall(r'(\\d?\\d):(\\d?\\d)', text))\n",
    "print(2, re.findall(r'(\\d\\d):(\\d\\d)', text))\n",
    "print(3, re.findall(r'(\\d?\\d):(\\d\\d)', text))\n",
    "print(4, re.findall(r'(\\d\\d):(\\d?\\d)', text))\n",
    "print(5, re.findall(r'( \\d{1}):(\\d{1}) ', text))\n",
    "print(5, re.findall(r'( \\d+):(\\d+) ', text))"
   ]
  },
  {
   "cell_type": "code",
   "execution_count": 162,
   "metadata": {},
   "outputs": [
    {
     "data": {
      "text/plain": [
       "['18.452']"
      ]
     },
     "execution_count": 162,
     "metadata": {},
     "output_type": "execute_result"
    }
   ],
   "source": [
    "text = '\\yes 18.452 kg'\n",
    "re.findall(r'(\\d+.\\d+)', text)"
   ]
  },
  {
   "cell_type": "code",
   "execution_count": 163,
   "metadata": {},
   "outputs": [],
   "source": [
    "import numpy as np\n",
    "from sklearn.feature_extraction.text import CountVectorizer"
   ]
  },
  {
   "cell_type": "code",
   "execution_count": 164,
   "metadata": {},
   "outputs": [],
   "source": [
    "text_data = np.array(['I love Brazil. Brazil!',\n",
    "                    'Sweden is best',\n",
    "                    'Germany beats both'])"
   ]
  },
  {
   "cell_type": "code",
   "execution_count": 165,
   "metadata": {},
   "outputs": [],
   "source": [
    "count = CountVectorizer()\n",
    "bag_of_words = count.fit_transform(text_data)"
   ]
  },
  {
   "cell_type": "code",
   "execution_count": 166,
   "metadata": {},
   "outputs": [
    {
     "data": {
      "text/plain": [
       "<3x8 sparse matrix of type '<class 'numpy.int64'>'\n",
       "\twith 8 stored elements in Compressed Sparse Row format>"
      ]
     },
     "execution_count": 166,
     "metadata": {},
     "output_type": "execute_result"
    }
   ],
   "source": [
    "bag_of_words"
   ]
  },
  {
   "cell_type": "code",
   "execution_count": 167,
   "metadata": {},
   "outputs": [
    {
     "name": "stderr",
     "output_type": "stream",
     "text": [
      "/Users/sunilthapa/opt/miniconda3/lib/python3.9/site-packages/sklearn/utils/deprecation.py:87: FutureWarning: Function get_feature_names is deprecated; get_feature_names is deprecated in 1.0 and will be removed in 1.2. Please use get_feature_names_out instead.\n",
      "  warnings.warn(msg, category=FutureWarning)\n"
     ]
    },
    {
     "data": {
      "text/plain": [
       "['beats', 'best', 'both', 'brazil', 'germany', 'is', 'love', 'sweden']"
      ]
     },
     "execution_count": 167,
     "metadata": {},
     "output_type": "execute_result"
    }
   ],
   "source": [
    "count.get_feature_names()"
   ]
  },
  {
   "cell_type": "code",
   "execution_count": 168,
   "metadata": {},
   "outputs": [
    {
     "data": {
      "text/plain": [
       "array([[0, 0, 0, 2, 0, 0, 1, 0],\n",
       "       [0, 1, 0, 0, 0, 1, 0, 1],\n",
       "       [1, 0, 1, 0, 1, 0, 0, 0]])"
      ]
     },
     "execution_count": 168,
     "metadata": {},
     "output_type": "execute_result"
    }
   ],
   "source": [
    "bag_of_words.toarray()"
   ]
  },
  {
   "cell_type": "code",
   "execution_count": null,
   "metadata": {},
   "outputs": [],
   "source": []
  }
 ],
 "metadata": {
  "kernelspec": {
   "display_name": "base",
   "language": "python",
   "name": "python3"
  },
  "language_info": {
   "codemirror_mode": {
    "name": "ipython",
    "version": 3
   },
   "file_extension": ".py",
   "mimetype": "text/x-python",
   "name": "python",
   "nbconvert_exporter": "python",
   "pygments_lexer": "ipython3",
   "version": "3.9.12"
  },
  "orig_nbformat": 4,
  "vscode": {
   "interpreter": {
    "hash": "47d7a3528df19f6d7d5b443030394cb1b3b5540a28bb20dc453d994d1e3e4878"
   }
  }
 },
 "nbformat": 4,
 "nbformat_minor": 2
}
