{
 "cells": [
  {
   "cell_type": "code",
   "execution_count": 1,
   "metadata": {},
   "outputs": [
    {
     "name": "stderr",
     "output_type": "stream",
     "text": [
      "[nltk_data] Downloading package webtext to\n",
      "[nltk_data]     /Users/sunilthapa/nltk_data...\n",
      "[nltk_data]   Package webtext is already up-to-date!\n"
     ]
    }
   ],
   "source": [
    "import nltk\n",
    "nltk.download('webtext')\n",
    "from nltk.corpus import webtext"
   ]
  },
  {
   "cell_type": "code",
   "execution_count": 2,
   "metadata": {},
   "outputs": [],
   "source": [
    "words = [w.lower() for w in webtext.words('grail.txt')]"
   ]
  },
  {
   "cell_type": "code",
   "execution_count": 4,
   "metadata": {},
   "outputs": [
    {
     "data": {
      "text/plain": [
       "\"scene 1 : [ wind ] [ clop clop clop ] king arthur : whoa there ! [ clop clop clop ] soldier # 1 : halt ! who goes there ? arthur : it is i , arthur , son of uther pendragon , from the castle of camelot . king of the britons , defeator of the saxons , sovereign of all england ! soldier # 1 : pull the other one ! arthur : i am , ... and this is my trusty servant patsy . we have ridden the length and breadth of the land in search of knights who will join me in my court at camelot . i must speak with your lord and master . soldier # 1 : what ? ridden on a horse ? arthur : yes ! soldier # 1 : you ' re using coconuts ! arthur : what ? soldier # 1 : you ' ve got two empty halves of coconut and you ' re bangin ' ' em together . arthur : so ? we have ridden since the snows of winter covered this land , through the kingdom of mercea , through -- soldier # 1 : where ' d you get the coconuts ? arthur : we found them . soldier # 1 : found them ? in mercea ? the coconut ' s tropical ! arthur : what do you mean ? soldier # 1 : well , this is a temperate zone . arthur : the swallow may fly south with the sun or the house martin or the plover may seek warmer climes in winter , yet these are not strangers to our land ? soldier # 1 : are you suggesting coconuts migrate ? arthur : not at all . they could be carried . soldier # 1 : what ? a swallow carrying a coconut ? arthur : it could grip it by the husk ! soldier # 1 : it ' s not a question of where he grips it ! it ' s a simple question of weight ratios ! a five ounce bird could not carry a one pound coconut . arthur : well , it doesn ' t matter . will you go and tell your master that arthur from the court of camelot is here . soldier # 1 : listen . in order to maintain air - speed velocity , a swallow needs to beat its wings forty - three times every second , right ? arthur : please ! soldier # 1 : am i right ? arthur : i ' m not interested ! soldier # 2 : it could be carried by an african swallow ! soldier # 1 : oh , yeah , an african swallow maybe , but not a european swallow . that ' s my point . soldier # 2 : oh , yeah , i agree with that . arthur : will you ask your master if he wants to join my court at camelot ?! soldier # 1 : but then of course a -- african swallows are non - migratory . soldier # 2 : oh , yeah ... soldier # 1 : so they couldn ' t bring a coconut back anyway ... [ clop clop clop ] soldier # 2 : wait a minute ! supposing two swallows carried it together ? soldier # 1 : no , they ' d have to have it on a line . soldier # 2 : well , simple ! they ' d just use a strand of creeper ! soldier # 1 : what , held under the dorsal guiding feathers ? soldier # 2 : well , why not ? scene 2 : [ thud ] [ clang ] cart - master : bring out your dead ! [ clang ] bring out your dead ! [ clang ] bring out your dead ! [ clang ] bring out your dead ! [ clang ] bring out your dead ! [ cough cough ...] [ clang ] [... cough cough ] bring out your dead ! [ clang ] bring out your dead ! [ clang ] bring out your dead ! ninepence . [ clang ] bring out your dead ! [ clang ] bring out your dead ! [ clang ] bring out ... [ rewr !] ... your dead ! [ rewr !] [ clang ] bring out your dead ! customer : here ' s one . cart - master : ninepence . dead person : i ' m not dead ! cart - master : what ? customer : nothing . here ' s your ninepence . dead person : i ' m not dead ! cart - master : ' ere . he says he ' s not dead ! customer : yes he is . dead person : i ' m not ! cart - master : he isn ' t ? customer : well , he will be soon . he ' s very ill . dead person : i ' m getting better ! customer : no you ' re not . you ' ll be stone dead in a moment . cart - master : oh , i can ' t take him like that . it ' s against regulations . dead person : i don ' t want to go on the cart ! customer : oh , don ' t be such a baby . cart - master : i can ' t take him . dead person : i feel fine ! customer : well , do us a favor . cart - master : i can ' t . customer : well , can you hang around a couple of minutes ? he won ' t be long . cart - master : no , i ' ve got to go to the robinson ' s . they ' ve lost nine today . customer : well , when ' s your next round ? cart - master : thursday . dead person : i think i ' ll go for a walk . customer : you ' re not fooling anyone you know . look , isn ' t there something you can do ? dead person : [ singing ] i feel happy ... i feel happy . [ whop ] customer : ah , thanks very much . cart - master : not at all . see you on thursday . customer : right . all right . [ howl ] [ clop clop clop ] who ' s that then ? cart - master : i dunno . must be a king . customer : why ? cart - master : he hasn ' t got shit all over him . scene 3 : [ thud ] [ king arthur music ] [ thud thud thud ] [ king arthur music stops ] arthur : old woman ! dennis : man ! arthur : man . sorry . what knight live in that castle over there ? dennis : i ' m thirty - seven . arthur : i -- what ? dennis : i ' m thirty - seven . i ' m not old . arthur : well , i can ' t just call you ' man '. dennis : well , you could say ' dennis '. arthur : well , i didn ' t know you were called ' dennis '. dennis : well , you didn ' t bother to find out , did you ? arthur : i did say ' sorry ' about the ' old woman ', but from the behind you looked -- dennis : what i object to is that you automatically treat me like an inferior ! arthur : well , i am king ! dennis : oh king , eh , very nice . and how d ' you get that , eh ? by exploiting the workers ! by ' anging on to outdated imperialist dogma which perpetuates the economic and social differences in our society . if there ' s ever going to be any progress with the -- woman : dennis , there ' s some lovely filth down here . oh ! how d ' you do ? arthur : how do you do , good lady . i am arthur , king of the britons . who ' s castle is that ? woman : king of the who ? arthur : the britons . woman : who are the britons ? arthur : well , we all are . we are all britons , and i am your king . woman : i didn ' t know we had a king . i thought we were an autonomous collective . dennis : you ' re fooling yourself . we ' re living in a dictatorship . a self - perpetuating autocracy in which the working classes -- woman : oh , there you go , bringing class into it again . dennis : that ' s what it ' s all about . if only people would hear of -- arthur : please , please good people . i am in haste . who lives in that castle ? woman : no one live there . arthur : then who is your lord ? woman : we don ' t have a lord . arthur : what ? dennis : i told you . we ' re an anarcho - syndicalist commune . we take it in turns to act as a sort of executive officer for the week . arthur : yes . dennis : but all the decision of that officer have to be ratified at a special bi - weekly meeting -- arthur : yes , i see . dennis : by a simple majority in the case of purely internal affairs ,-- arthur : be quiet ! dennis : but by a two - thirds majority in the case of more major -- arthur : be quiet ! i order you to be quiet ! woman : order , eh ? who does he think he is ? heh . arthur : i am your king ! woman : well , i didn ' t vote for you . arthur : you don ' t vote for kings . woman : well , how did you become king then ? arthur : the lady of the lake , ... [ angels sing ] ... her arm clad in the purest shimmering samite , held aloft excalibur from the bosom of the water signifying by divine providence that i , arthur , was to carry excalibur . [ singing stops ] that is why i am your king ! dennis : listen , strange women lying in ponds distributing swords is no basis for a system of government . supreme executive power derives from a mandate from the masses , not from some farcical aquatic ceremony . arthur : be quiet ! dennis : well , but you can ' t expect to wield supreme executive power just ' cause some watery tart threw a sword at you ! arthur : shut up ! dennis : i mean , if i went ' round saying i was an emperor just because some moistened bint had lobbed a scimitar at me , they ' d put me away ! arthur : shut up , will you . shut up ! dennis : ah , now we see the violence inherent in the system . arthur : shut up ! dennis : oh ! come and see the violence inherent in the system ! help , help ! i ' m being repressed ! arthur : bloody peasant ! dennis : oh , what a give - away . did you hear that ? did you hear that , eh ? that ' s what i ' m on about . did you see him repressing me ? you saw it , didn ' t you scene 4 : [ king arthur music ] [ music stops ] black knight : aaagh ! [ king arthur music ] [ music stops ] black knight : aaagh ! green knight : ooh ! [ king arthur music ] [ music stops ] [ stab ] black knight : aagh ! green knight : oh ! [ king arthur music ] ooh ! [ music stops ] black knight : aaagh ! [ clang ] black knight and green knight : agh !, oh !, etc . green knight : aaaaaah ! aaaaaaaaah ! [ woosh ] [ black knight kills green knight ] [ thud ] [ scrape ] black knight : umm ! [ clop clop clop ] arthur : you fight with the strength of many men , sir knight . [ pause ] i am arthur , king of the britons . [ pause ] i seek the finest and the bravest knights in the land to join me in my court at camelot . [ pause ] you have proved yourself worthy . will you join me ? [ pause ] you make me sad . so be it . come , patsy . black knight : none shall pass . arthur : what ? black knight : none shall pass . arthur : i have no quarrel with you , good sir knight , but i must cross this bridge . black knight : then you shall die . arthur : i command you , as king of the britons , to stand aside ! black knight : i move for no man . arthur : so be it ! arthur and black knight : aaah !, hiyaah !, etc . [ arthur chops the black knight ' s left arm off ] arthur : now stand aside , worthy adversary . black knight : ' tis but a scratch . arthur : a scratch ? your arm ' s off ! black knight : no , it isn ' t . arthur : well , what ' s that then ? black knight : i ' ve had worse . arthur : you liar ! black knight : come on , you pansy ! [ clang ] huyah ! [ clang ] hiyaah ! [ clang ] aaaaaaaah ! [ arthur chops the black knight ' s right arm off ] arthur : victory is mine ! [ kneeling ] we thank thee lord , that in thy mer -- black knight : hah ! [ clunk ] come on then . arthur : what ? black knight : have at you ! [ kick ] arthur : eh . you are indeed brave , sir knight , but the fight is mine . black knight : oh , had enough , eh ? arthur : look , you stupid bastard . you ' ve got no arms left . black knight : yes i have . arthur : look ! black knight : just a flesh wound . [ kick ] arthur : look , stop that . black knight : chicken ! [ kick ] chickennn ! arthur : look , i ' ll have your leg . [ kick ] right ! [ whop ] [ arthur chops the black knight ' s right leg off ] black knight : right . i ' ll do you for that ! arthur : you ' ll what ? black knight : come here ! arthur : what are you going to do , bleed on me ? black knight : i ' m invincible ! arthur : you ' re a looney . black knight : the black knight always triumphs ! have at you ! come on then . [ whop ] [ arthur chops the black knight ' s last leg off ] black knight : ooh . all right , we ' ll call it a draw . arthur : come , patsy . black knight : oh . oh , i see . running away , eh ? you yellow bastards ! come back here and take what ' s coming to you . i ' ll bite your legs off scene 5 : monks : [ chanting ] pie iesu domine , dona eis requiem . [ bonk ] pie iesu domine , ... [ bonk ] ... dona eis requiem . [ bonk ] pie iesu domine , ... [ bonk ] ... dona eis requiem . crowd : a witch ! a witch ! [ bonk ] a witch ! a witch ! monks : [ chanting ] pie iesu domine ... crowd : a witch ! a witch ! a witch ! a witch ! we ' ve found a witch ! a witch ! a witch ! a witch ! a witch ! we ' ve got a witch ! a witch ! a witch ! burn her ! burn her ! burn her ! we ' ve found a witch ! we ' ve found a witch ! a witch ! a witch ! a witch ! villager # 1 : we have found a witch . may we burn her ? crowd : burn her ! burn ! burn her ! burn her ! bedevere : how do you know she is a witch ? villager # 2 : she looks like one . crowd : right ! yeah ! yeah ! bedevere : bring her forward . witch : i ' m not a witch . i ' m not a witch . bedevere : uh , but you are dressed as one . witch : they dressed me up like this . crowd : augh , we didn ' t ! we didn ' t ... witch : and this isn ' t my nose . it ' s a false one . bedevere : well ? villager # 1 : well , we did do the nose . bedevere : the nose ? villager # 1 : and the hat , but she is a witch ! villager # 2 : yeah ! crowd : we burn her ! right ! yeaaah ! yeaah ! bedevere : did you dress her up like this ? villager # 1 : no ! villager # 2 and 3 : no . no . villager # 2 : no . villager # 1 : no . villagers # 2 and # 3 : no . villager # 1 : yes . villager # 2 : yes . villager # 1 : yes . yeah , a bit . villager # 3 : a bit . villagers # 1 and # 2 : a bit . villager # 3 : a bit . villager # 1 : she has got a wart . random : [ cough ] bedevere : what makes you think she is a witch ? villager # 3 : well , she turned me into a newt . bedevere : a newt ? villager # 3 : i got better . villager # 2 : burn her anyway ! villager # 1 : burn ! crowd : burn her ! burn ! burn her ! ... bedevere : quiet ! quiet ! quiet ! quiet ! there are ways of telling whether she is a witch . villager # 1 : are there ? villager # 2 : ah ? villager # 1 : what are they ? crowd : tell us ! tell us ! ... bedevere : tell me , what do you do with witches ? villager # 2 : burn ! villager # 1 : burn ! crowd : burn ! burn them up ! burn ! ... bedevere : and what do you burn apart from witches ? villager # 1 : more witches ! villager # 3 : shh ! villager # 2 : wood ! bedevere : so , why do witches burn ? [ pause ] villager # 3 : b --... ' cause they ' re made of ... wood ? bedevere : good ! heh heh . crowd : oh yeah . oh . bedevere : so , how do we tell whether she is made of wood ? villager # 1 : build a bridge out of her . bedevere : ah , but can you not also make bridges out of stone ? villager # 1 : oh , yeah . random : oh , yeah . true . uhh ... bedevere : does wood sink in water ? villager # 1 : no . no . villager # 2 : no , it floats ! it floats ! villager # 1 : throw her into the pond ! crowd : the pond ! throw her into the pond ! bedevere : what also floats in water ? villager # 1 : bread ! villager # 2 : apples ! villager # 3 : uh , very small rocks ! villager # 1 : cider ! villager # 2 : uh , gra -- gravy ! villager # 1 : cherries ! villager # 2 : mud ! villager # 3 : churches ! churches ! villager # 2 : lead ! lead ! arthur : a duck ! crowd : oooh . bedevere : exactly . so , logically ... villager # 1 : if ... she ... weighs ... the same as a duck , ... she ' s made of wood . bedevere : and therefore ? villager # 2 : a witch ! villager # 1 : a witch ! crowd : a witch ! a witch ! ... villager # 4 : here is a duck . use this duck . [ quack quack quack ] bedevere : we shall use my largest scales . crowd : ohh ! ohh ! burn the witch ! burn the witch ! burn her ! burn her ! burn her ! burn her ! burn her ! burn her ! burn her ! ahh ! ahh ... bedevere : right . remove the supports ! [ whop ] [ clunk ] [ creak ] crowd : a witch ! a witch ! a witch ! witch : it ' s a fair cop . villager # 3 : burn her ! crowd : burn her ! burn her ! burn her ! burn ! burn ! ... bedevere : who are you who are so wise in the ways of science ? arthur : i am arthur , king of the britons . bedevere : my liege ! arthur : good sir knight , will you come with me to camelot , and join us at the round table ? bedevere : my liege ! i would be honored . arthur : what is your name ? bedevere : bedevere , my liege . arthur : then i dub you sir bedevere , knight of the round table narrator : the wise sir bedevere was the first to join king arthur ' s knights , but other illustrious names were soon to follow : sir lancelot the brave ; sir gallahad the pure ; and sir robin the - not - quite - so - brave - as - sir - lancelot , who had nearly fought the dragon of angnor , who had nearly stood up to the vicious chicken of bristol , and who had personally wet himself at the battle of badon hill ; and the aptly named sir not - appearing - in - this - film . together they formed a band whose names and deeds were to be retold throughout the centuries : the knights of the round table scene 6 : [ clop clop clop ] sir bedevere : and that , my liege , is how we know the earth to be banana - shaped . arthur : this new learning amazes me , sir bedevere . explain again how sheep ' s bladders may be employed to prevent earthquakes . bedevere : oh , certainly , sir . sir launcelot : look , my liege ! [ trumpets ] arthur : camelot ! sir galahad : camelot ! launcelot : camelot ! patsy : it ' s only a model . arthur : shh ! knights , i bid you welcome to your new home . let us ride ... to ... camelot ! [ in medieval hall ] knights : [ singing ] we ' re knights of the round table . we dance when e ' er we ' re able . we do routines and chorus scenes with footwork impeccable . we dine well here in camelot . we eat ham and jam and spam a lot [ dancing ] we ' re knights of the round table . our shows are formidable , but many times we ' re given rhymes that are quite unsingable . we ' re opera mad in camelot . we sing from the diaphragm a lot [ in dungeon ] prisoner : [ clap clap clap clap ] [ in medieval hall ] knights : [ tap - dancing ] in war we ' re tough and able , quite indefatigable . between our quests we sequin vests and impersonate clark gable . it ' s a busy life in camelot . man : i have to push the pram a lot [ outdoors ] arthur : well , on second thought , let ' s not go to camelot . it is a silly place . knights : right . right scene 7 : [ clop clop clop ] [ boom boom ] [ angels sing ] god : arthur ! arthur , king of the britons ! oh , don ' t grovel ! [ singing stops ] one thing i can ' t stand , it ' s people groveling . arthur : sorry . [ boom ] god : and don ' t apologise . every time i try to talk to someone it ' s ' sorry this ' and ' forgive me that ' and ' i ' m not worthy '. [ boom ] what are you doing now ?! arthur : i ' m averting my eyes , o lord . god : well , don ' t . it ' s like those miserable psalms -- they ' re so depressing . now knock it off ! arthur : yes , lord . god : right ! arthur , king of the britons , your knights of the round table shall have a task to make them an example in these dark times . arthur : good idea , o lord ! god : ' course it ' s a good idea ! behold ! [ angels sing ] arthur , this is the holy grail . look well , arthur , for it is your sacred task to seek this grail . that is your purpose , arthur ... the quest for the holy grail . [ boom ] [ singing stops ] launcelot : a blessing ! a blessing from the lord ! galahad : god be praised scene 8 : [ king arthur music ] [ clop clop clop ] arthur : halt ! [ horn ] hallo ! [ pause ] hallo ! french guard : allo ! who is eet ? arthur : it is king arthur , and these are my knights of the round table . who ' s castle is this ? french guard : this is the castle of my master guy de loimbard . arthur : go and tell your master that we have been charged by god with a sacred quest . if he will give us food and shelter for the night he can join us in our quest for the holy grail . french guard : well , i ' ll ask him , but i don ' t think he ' ll be very keen . uh , he ' s already got one , you see ? arthur : what ? galahad : he says they ' ve already got one ! arthur : are you sure he ' s got one ? french guard : oh , yes , it ' s very nice - a . ( i told him we already got one .) arthur : well , u -- um , can we come up and have a look ? french guard : of course not ! you are english types - a ! arthur : well , what are you then ? french guard : i ' m french ! why do think i have this outrageous accent , you silly king - a ?! galahad : what are you doing in england ? french guard : mind your own business ! arthur : if you will not show us the grail , we shall take your castle by force ! french guard : you don ' t frighten us , english pig - dogs ! go and boil your bottom , sons of a silly person . i blow my nose at you , so - called arthur king , you and all your silly english k - nnnnniggets . thpppppt ! thppt ! thppt ! galahad : what a strange person . arthur : now look here , my good man -- french guard : i don ' t wanna talk to you no more , you empty headed animal food trough wiper ! i fart in your general direction ! you mother was a hamster and your father smelt of elderberries ! galahad : is there someone else up there we could talk to ? french guard : no , now go away or i shall taunt you a second time - a ! [ sniff ] arthur : now , this is your last chance . i ' ve been more than reasonable . french guard : ( fetchez la vache .) other french guard : quoi ? french guard : ( fetchez la vache !) [ mooo ] arthur : if you do not agree to my commands , then i shall -- [ twong ] [ mooooooo ] jesus christ ! knights : christ ! [ thud ] ah ! ohh ! arthur : right ! charge ! knights : charge ! [ mayhem ] french guard : hey , this one is for your mother ! there you go . [ mayhem ] french guard : and this one ' s for your dad ! arthur : run away ! knights : run away ! french guard : thppppt ! french guards : [ taunting ] launcelot : fiends ! i ' ll tear them apart ! arthur : no , no . no , no . bedevere : sir ! i have a plan , sir . [ later ] [ wind ] [ saw saw saw saw saw saw saw saw saw saw saw saw saw saw saw saw ] [ clunk ] [ bang ] [ rewr !] [ squeak squeak squeak squeak squeak squeak squeak squeak squeak squeak ] [ rrrr rrrr rrrr ] [ drilllll ] [ sawwwww ] [ clunk ] [ crash ] [ clang ] [ squeak squeak squeak squeak squeak ...] [ creak ] french guards : [ whispering ] c ' est un lapin , lapin de bois . quoi ? un cadeau . what ? a present . oh , un cadeau . oui , oui . hurry . what ? let ' s go . oh . on y va . bon magne . over here ... [ squeak squeak squeak squeak squeak ...] [ clllank ] arthur : what happens now ? bedevere : well , now , uh , launcelot , galahad , and i , uh , wait until nightfall , and then leap out of the rabbit , taking the french , uh , by surprise . not only by surprise , but totally unarmed ! arthur : who leaps out ? bedevere : u -- u -- uh , launcelot , galahad , and i . uh , leap out of the rabbit , uh , and uh ... arthur : ohh . bedevere : oh . um , l -- look , i -- i -- if we built this large wooden badger -- [ clank ] [ twong ] arthur : run away ! knights : run away ! run away ! run away ! run away ! run away ! run away ! run away ! [ crash ] french guards : oh , haw haw haw haw ! haw ! haw haw heh .. scene 9 : [ clack ] voice : picture for schools , take eight . director : action ! historian : defeat at the castle seems to have utterly disheartened king arthur . the ferocity of the french taunting took him completely by surprise , and arthur became convinced that a new strategy was required if the quest for the holy grail were to be brought to a successful conclusion . arthur , having consulted his closest knights , decided that they should separate , and search for the grail individually . [ clop clop clop ] now , this is what they did : launcelot -- knight : aaaah ! [ slash ] [ knight kills historian ] historian ' s wife : frank scene 10 : [ trumpets ] narrator : the tale of sir robin . so each of the knights went their separate ways . sir robin rode north , through the dark forest of ewing , accompanied by his favorite minstrels . minstrel : [ singing ] bravely bold sir robin , rode forth from camelot . he was not afraid to die , o brave sir robin . he was not at all afraid to be killed in nasty ways . brave , brave , brave , brave sir robin ! he was not in the least bit scared to be mashed into a pulp , or to have his eyes gouged out , and his elbows broken . to have his kneecaps split , and his body burned away , and his limbs all hacked and mangled , brave sir robin ! his head smashed in and his heart cut out , and his liver removed and his bowels unplugged , and his nostrils raped and his bottom burned off , and his pen -- sir robin : that ' s -- that ' s , uh -- that ' s enough music for now , lads . heh . looks like there ' s dirty work afoot . dennis : anarcho - syndicalism is a way of preserving freedom . woman : oh , dennis , forget about freedom . we haven ' t got enough mud . all heads : halt ! who art thou ? minstrel : [ singing ] he is brave sir robin , brave sir robin , who -- robin : shut up ! um , n -- n -- n -- nobody really , i ' m j -- j -- j -- ju -- just um , just passing through . all heads : what do you want ? minstrel : [ singing ] to fight and -- robin : shut up ! um , oo , a -- nothing , nothing really . i , uh , j -- j -- just -- just to um , just to p -- pass through , good sir knight . all heads : i ' m afraid not ! robin : ah . w -- well , actually i -- i am a knight of the round table . all heads : you ' re a knight of the round table ? robin : i am . left head : in that case i shall have to kill you . middle head : shall i ? right head : oh , i don ' t think so . middle head : well , what do i think ? left head : i think kill him . right head : oh , let ' s be nice to him . left head : oh shut up . robin : perhaps i could -- left head : and you . oh , quick ! get the sword out . i want to cut his headoff ! right head : oh , cut your own head off ! middle head : yes , do us all a favor ! left head : what ? right head : yapping on all the time . middle head : you ' re lucky . you ' re not next to him . left head : what do you mean ? middle head : you snore ! left head : oh , i don ' t . anyway , you ' ve got bad breath . middle head : well it ' s only because you don ' t brush my teeth . right head : oh stop bitching and let ' s go have tea . left head : oh , all right . all right . all right . we ' ll kill him first and then have tea and biscuits . middle head : yes . right head : oh , not biscuits . left head : all right . all right , not biscuits , but let ' s kill him anyway . all heads : right ! middle head : he buggered off . right head : so he has . he ' s scarper minstrel : [ singing ] brave sir robin ran away . robin : no ! minstrel : [ singing ] bravely ran away away . robin : i didn ' t ! minstrel : [ singing ] when danger reared its ugly head , he bravely turned his tail and fled . robin : no ! minstrel : [ singing ] yes , brave sir robin turned about robin : i didn ' t ! minstrel : [ singing ] and gallantly he chickened out , bravely taking to his feet . robin : i never did ! minstrel : [ singing ] he beat a very brave retreat . robin : all lies ! minstrel : [ singing ] bravest of the brave , sir robin . robin : i never cartoon monks : [ chanting ] pie iesu domine , dona eis requiem . cartoon character : heh heh heeh ooh ... [ twang ] cartoon monks : [ chanting ] pie iesu domine , ... cartoon characters : wayy ! [ splash ] ho ho . woa , wayy ! [ twang ] [ splash ] heh heh heh heh ho ! heh heh heh ! cartoon monks : [ chanting ] ... dona eis requiem . cartoon character : wayy ! [ twang ] wayy ! [ twang ] voice : [ whispering ] forgive me for asking . cartoon character : oh ! oooo scene 11 : [ trumpets ] narrator : the tale of sir galahad . [ boom ] [ wind ] [ howl ] [ howl ] [ boom ] [ angels singing ] [ howl ] [ boom ] [ howl ] [ boom ] [ pound pound pound ] galahad : open the door ! open the door ! [ pound pound pound ] in the name of king arthur , open the door ! [ squeak ] [ thump ] [ squeak ] [ boom ] girls : hello ! zoot : welcome gentle sir knight . welcome to the castle anthrax . galahad : the castle anthrax ? zoot : yes . oh , it ' s not a very good name is it ? oh , but we are nice and we will attend to your every , every need ! galahad : you are the keepers of the holy grail ? zoot : the what ? galahad : the grail . it is here . zoot : oh , but you are tired , and you must rest awhile . midget ! crapper ! midget and crapper : yes , o zoot ? zoot : prepare a bed for our guest . midget and crapper : oh thank you ! thank you ! thank you ! thank you ! thank you ! thank you ! ... zoot : away , away varletesses . the beds here are warm and soft , and very , very big . galahad : well , look , i -- i -- uh -- zoot : what is your name , handsome knight ? galahad : sir galahad ... the chaste . zoot : mine is zoot . just zoot . oh , but come . galahad : look , please ! in god ' s name , show me the grail ! zoot : oh , you have suffered much . you are delirious . galahad : no , look . i have seen it ! it is here , in this -- zoot : sir galahad ! you would not be so ungallant as to refuse our hospitality . galahad : well , i -- i -- uh -- zoot : oh , i am afraid our life must seem very dull and quiet compared to yours . we are but eight score young blondes and brunettes , all between sixteen and nineteen - and - a - half , cut off in this castle with no one to protect us . oooh . it is a lonely life : bathing , dressing , undressing , making exciting underwear . we are just not used to handsome knights . nay . nay . come . come . you may lie here . oh , but you are wounded ! galahad : no , no -- it ' s -- it ' s nothing . zoot : oh , you must see the doctors immediately ! no , no , please ! lie down . [ clap clap ] piglet : well , what seems to be the trouble ? galahad : they ' re doctors ?! zoot : uh , they have a basic medical training , yes . galahad : b -- but -- zoot : oh , come , come . you must try to rest . doctor piglet ! doctor winston ! practice your art . winston : try to relax . galahad : are you sure that ' s absolutely necessary ? piglet : we must examine you . galahad : there ' s nothing wrong with that ! piglet : please . we are doctors . galahad : look ! this cannot be . i am sworn to chastity . piglet : back to your bed ! at once ! galahad : torment me no longer . i have seen the grail ! piglet : there ' s no grail here . galahad : i have seen it ! i have seen it ! [ clank ] i have seen -- girls : hello . galahad : oh . girls : hello . hello . hello . hello . hello . hello . hello . hello . hello . hello . hello . hello . hello . hello . hello . hello . hello . hello . hello . hello . hello . hello . hello . galahad : zoot ! dingo : no , i am zoot ' s identical twin sister , dingo . galahad : oh , well , excuse me , i -- dingo : where are you going ? galahad : i seek the grail ! i have seen it , here in this castle ! dingo : oh no . oh , no ! bad , bad zoot ! galahad : well , what is it ? dingo : oh , wicked , bad , naughty zoot ! she has been setting alight to our beacon , which , i have just remembered , is grail - shaped . it ' s not the first time we ' ve had this problem . galahad : it ' s not the real grail ? dingo : oh , wicked , bad , naughty , evil zoot ! she is a bad person and must pay the penalty . do you think this scene should have been cut ? we were so worried when the boys were writing it , but now , we ' re glad . it ' s better than some of the previous scenes , i think . left head : at least ours was better visually . dennis : well , at least ours was committed . it wasn ' t just a string of pussy jokes . old man : get on with it . tim the enchanter : yes , get on with it ! army of knights : yes , get on with it ! dingo : oh , i am enjoying this scene . god : get on with it ! dingo : [ sigh ] oh , wicked , wicked zoot . oh , she is a naughty person , and she must pay the penalty . and here in castle anthrax , we have but one punishment for setting alight the grail - shaped beacon . you must tie her down on a bed and spank her . girls : a spanking ! a spanking ! dingo : you must spank her well . and after you have spanked her , you may deal with her as you like . and then , spank me . amazing : and spank me . stunner : and me . lovely : and me . dingo : yes , yes , you must give us all a good spanking ! girls : a spanking ! a spanking ! there is going to be a spanking tonight ! dingo : and after the spanking , the oral sex . girls : the oral sex ! the oral sex ! galahad : well , i could stay a bit longer . launcelot : sir galahad ! galahad : oh , hello . launcelot : quick ! galahad : what ? launcelot : quick ! galahad : why ? launcelot : you are in great peril ! dingo : no he isn ' t . launcelot : silence , foul temptress ! galahad : you know , she ' s got a point . launcelot : come on ! we will cover your escape ! galahad : look , i ' m fine ! launcelot : come on ! girls : sir galahad ! galahad : no . look , i can tackle this lot single - handed ! dingo : yes ! let him tackle us single - handed ! girls : yes ! let him tackle us single - handed ! launcelot : no , sir galahad . come on ! galahad : no ! really ! honestly , i can cope . i can handle this lot easily . dingo : oh , yes . let him handle us easily . girls : yes . let him handle us easily . launcelot : no . quick ! quick ! galahad : please ! i can defeat them ! there ' s only a hundred - and - fifty of them ! dingo : yes , yes ! he will beat us easily ! we haven ' t a chance . girls : we haven ' t a chance . he will beat us easily ... [ boom ] dingo : oh , shit . launcelot : we were in the nick of time . you were in great peril . galahad : i don ' t think i was . launcelot : yes you were . you were in terrible peril . galahad : look , let me go back in there and face the peril . launcelot : no , it ' s too perilous . galahad : look , it ' s my duty as a knight to sample as much peril as i can . launcelot : no , we ' ve got to find the holy grail . come on ! galahad : oh , let me have just a little bit of peril ? launcelot : no . it ' s unhealthy . galahad : i bet you ' re gay . launcelot : no i ' m not narrator : sir launcelot had saved sir galahad from almost certain temptation , but they were still no nearer the grail . meanwhile , king arthur and sir bedevere , not more than a swallow ' s flight away , had discovered something . oh , that ' s an unladen swallow ' s flight , obviously . i mean , they were more than two laden swallows ' flights away -- four , really , if they had a coconut on a line between them . i mean , if the birds were walking and dragging -- crowd : get on with it ! narrator : oh , anyway . on to scene twenty - four , which is a smashing scene with some lovely acting , in which arthur discovers a vital clue , and in which there aren ' t any swallows , although i think you can hear a starling -- oooh scene 12 : old man : heh , hee ha ha hee hee ! hee hee hee ha ha ha ... arthur : and this enchanter of whom you speak , he has seen the grail ? old man : ... ha ha ha ha ! heh , hee ha ha hee ! ha hee ha ! ha ha ha ha ... arthur : where does he live ? old man : ... heh heh heh heh ... arthur : old man , where does he live ? old man : ... hee ha ha ha . he knows of a cave , a cave which no man has entered . arthur : and the grail . the grail is there ? old man : there is much danger , for beyond the cave lies the gorge of eternal peril , which no man has ever crossed . arthur : but the grail ! where is the grail ?! old man : seek you the bridge of death . arthur : the bridge of death , which leads to the grail ? old man : heh , hee hee hee hee ! ha ha ha ha ha ! hee ha ha .. scene 13 : [ spooky music ] [ music stops ] head knight of ni : ni ! knights of ni : ni ! ni ! ni ! ni ! ni ! arthur : who are you ? head knight : we are the knights who say ... ' ni '! random : ni ! arthur : no ! not the knights who say ' ni '! head knight : the same ! bedevere : who are they ? head knight : we are the keepers of the sacred words : ni , peng , and neee - wom ! random : neee - wom ! arthur : those who hear them seldom live to tell the tale ! head knight : the knights who say ' ni ' demand a sacrifice ! arthur : knights of ni , we are but simple travellers who seek the enchanter who lives beyond these woods . head knight : ni ! knights of ni : ni ! ni ! ni ! ni ! ni ! ... arthur : ow ! ow ! ow ! agh ! head knight : we shall say ' ni ' again to you if you do not appease us . arthur : well , what is it you want ? head knight : we want ... a shrubbery ! [ dramatic chord ] arthur : a what ? knights of ni : ni ! ni ! ni ! ni ! arthur and party : ow ! oh ! arthur : please , please ! no more ! we will find you a shrubbery . head knight : you must return here with a shrubbery or else you will never pass through this wood alive ! arthur : o knights of ni , you are just and fair , and we will return with a shrubbery . head knight : one that looks nice . arthur : of course . head knight : and not too expensive . arthur : yes . head knight : now ... go [ trumpets ] cartoon character : hmm hmm -- [ boom ] oh ! great scott ! hm . hmm . [ boom ] hm ! hmm . [ mumble mumble mumble ] [ boom ] [ mumble mumble mumble ] [ boom ] [ mumble mumble mumble ] [ boom ] [ mumble mumble mumble ] [ boom ] [ mumble mumble mumble ] [ boom ] [ mumble mumble mumble ] [ boom ] [ mumble mumble mumble ] [ boom ] [ mumble mumble mumble ] [ boom ] ohh ! [ crash ] [ mumble mumble mumble ] [ boom ] sun : ay , up ! thsss . [ boom ] ayy , up ! [ boom ] thsss . [ boom ] ayy , up ! cartoon character : stop that ! stop that ! [ boom ] sun : ay , up ! cartoon character : stop that ! [ boom ] look on ! clear off ! go on ! go away ! go away ! go away ! and you ! clear off ! [ sniff ] sun : [ mumble mumble mumble ] [ bells ] cartoon character : hah . bloody weather scene 14 : narrator : the tale of sir launcelot . father : one day , lad , all this will be yours ! prince herbert : what , the curtains ? father : no . not the curtains , lad . all that you can see , stretched out over the hills and valleys of this land ! this ' ll be your kingdom , lad . herbert : but mother -- father : father , lad . father . herbert : b -- b -- but father , i don ' t want any of that . father : listen , lad . i built this kingdom up from nothing . when i started here , all there was was swamp . other kings said i was daft to build a castle on a swamp , but i built it all the same , just to show ' em . it sank into the swamp . so , i built a second one . that sank into the swamp . so i built a third one . that burned down , fell over , then sank into the swamp . but the fourth one ... stayed up ! and that ' s what you ' re gonna get , lad : the strongest castle in these islands . herbert : but i don ' t want any of that . i ' d rather -- father : rather what ?! herbert : i ' d rather ... [ music ] ... just ... sing ! father : stop that ! stop that ! you ' re not going into a song while i ' m here . now listen , lad . in twenty minutes you ' re getting married to a girl whose father owns the biggest tracts of open land in britain . herbert : b -- but i don ' t want land . father : listen , alice ,-- herbert : herbert . father : ' erbert . we live in a bloody swamp . we need all the land we can get . herbert : but -- but i don ' t like her . father : don ' t like her ?! what ' s wrong with her ?! she ' s beautiful . she ' s rich . she ' s got huge ... tracts o ' land . herbert : i know , but i want the -- the girl that i marry to have ... [ music ] ... a certain ... special ... something ! father : cut that out ! cut that out ! look , you ' re marrying princess lucky , so you ' d better get used to the idea ! [ smack ] guards ! make sure the prince doesn ' t leave this room until i come and get him . guard # 1 : not to leave the room even if you come and get him . guard # 2 : hic ! father : no , no . until i come and get him . guard # 1 : until you come and get him , we ' re not to enter the room . father : no , no . no . you stay in the room and make sure he doesn ' t leave . guard # 1 : and you ' ll come and get him . guard # 2 : hic ! father : right . guard # 1 : we don ' t need to do anything , apart from just stop him entering the room . father : no , no . leaving the room . guard # 1 : leaving the room . yes . [ sniff ] father : all right ? guard # 1 : right . guard # 2 : hic ! father : right . guard # 1 : oh , if -- if -- if -- uhh -- if -- if -- w -- ehh -- i -- if -- if we -- father : yes ? what is it ? guard # 1 : oh , i -- if -- i -- oh -- father : look , it ' s quite simple . guard # 1 : uh ... father : you just stay here , and make sure ' e doesn ' t leave the room . alright ? guard # 2 : hic ! father : right . guard # 1 : oh , i remember . uhh , can he leave the room with us ? father : n -- no no . no . you just keep him in here , and make sure he -- guard # 1 : oh , yes . we ' ll keep him in here , obviously . but if he had to leave and we were with him -- father : no , no , no , no . just keep him in here -- guard # 1 : until you , or anyone else -- father : no , not anyone else . just me . guard # 1 : just you . guard # 2 : hic ! father : get back . guard # 1 : get back . father : all right ? guard # 1 : right . we ' ll stay here until you get back . guard # 2 : hic ! father : and , uh , make sure he doesn ' t leave . guard # 1 : what ? father : make sure ' e doesn ' t leave . guard # 1 : the prince ? father : yes . make sure ' e doesn ' t leave . guard # 1 : oh , yes , of course . guard # 2 : hic ! guard # 1 : ah . i thought you meant him . you know , it seemed a bit daft me havin ' to guard him when he ' s a guard . father : is that clear ? guard # 2 : hic ! guard # 1 : oh , quite clear . no problems . father : right . where are you going ? guard # 1 : we ' re coming with you . father : no , no . i want you to stay here and make sure ' e doesn ' t leave . guard # 1 : oh , i see . right . herbert : but father ! father : shut your noise , you ! and get that suit on ! [ music ] and no singing ! guard # 2 : hic ! father : oh , go and get a glass of water . [ clank ] [ scribble scribble scribble fold fold ] [ twong ] scene 15 : launcelot : well taken , concorde ! concorde : thank you , sir ! most kind . launcelot : and again ! over we go ! good . steady ! and now , the big one ! uuh ! come on , concorde ! [ thwonk ] concorde : message for you , sir . [ fwump ] launcelot : concorde ! concorde ! speak to me ! ' to whoever finds this note : i have been imprisoned by my father , who wishes me to marry against my will . please , please , please come and rescue me . i am in the tall tower of swamp castle .' at last ! a call ! a cry of distress ! this could be the sign that leads us to the holy grail ! brave , brave concorde , you shall not have died in vain ! concorde : uh , i ' m -- i ' m not quite dead , sir . launcelot : well , you shall not have been mortally wounded in vain ! concorde : i -- i -- i think i c -- i could pull through , sir . launcelot : oh , i see . concorde : actually , i think i ' m all right to come with you , sir -- launcelot : no , no , sweet concorde ! stay here ! i will send help as soon as i have accomplished a daring and heroic rescue in my own particular ... [ sigh ] concorde : idiom , sir ? launcelot : idiom ! concorde : no , i feel fine , actually , sir . launcelot : farewell , sweet concorde ! concorde : i ' ll , um , i ' ll just stay here then . shall i , sir ? yeah scene 16 : [ inside castle ] princess lucky and girls : [ giggle giggle giggle ] [ outside castle ] guest : ' morning ! sentry # 1 : ' morning . sentry # 2 : oooh . sentry # 1 : [ ptoo ] launcelot : ha ha ! hiyya ! sentry # 2 : hey ! launcelot : hiyya !, ha !, etc . princess lucky and girls : [ giggle giggle giggle ] launcelot : ha ha ! huy ! guests : uuh ! aaah ! launcelot : ha ha ! and take this ! aah ! hiyah ! aah ! aaah ! hyy ! hya ! hiyya ! ha ! ... guard # 1 : now , you ' re not allowed to enter the room -- aaugh ! launcelot : o fair one , behold your humble servant sir launcelot of camelot . i have come to take y -- oh , i ' m terribly sorry . herbert : you got my note ! launcelot : uh , well , i -- i got a -- a note . herbert : you ' ve come to rescue me ! launcelot : uh , well , no . you see , i hadn ' t -- herbert : i knew someone would . i knew that somewhere out there ... [ music ] launcelot : well , i -- herbert : ... there must be ... someone ... father : stop that ! stop that ! stop it ! stop it ! who are you ? herbert : i ' m your son ! father : no , not you . launcelot : uh , i am sir launcelot , sir . herbert : he ' s come to rescue me , father . launcelot : well , let ' s not jump to conclusions . father : did you kill all those guards ? launcelot : uh ... oh , yes . sorry . father : they cost fifty pounds each ! launcelot : well , i ' m awfully sorry . um , i really can explain everything . herbert : don ' t be afraid of him , sir launcelot . i ' ve got a rope all ready . father : you killed eight wedding guests in all ! launcelot : well , uh , you see , the thing is , i thought your son was a lady . father : i can understand that . herbert : hurry , sir launcelot ! hurry ! father : shut up ! you only killed the bride ' s father , that ' s all ! launcelot : well , i really didn ' t mean to ... father : didn ' t mean to ?! you put your sword right through his head ! launcelot : oh , dear . is he all right ? father : you even kicked the bride in the chest ! this is going to cost me a fortune ! launcelot : well , i can explain . i was in the forest , um , riding north from camelot , when i got this note , you see -- father : camelot ? are you from , uh , camelot ? herbert : hurry , sir launcelot ! launcelot : uh , i am a knight of king arthur , sir . father : very nice castle , camelot . uh , very good pig country ... launcelot : is it ? herbert : hurry ! i ' m ready ! father : would you , uh , like to come and have a drink ? launcelot : well , that -- that ' s , uh , awfully nice of you , ... herbert : i am ready ! launcelot : ... um , i mean to be so understanding . [ thonk ] um , ... [ woosh ] herbert : oooh ! launcelot : ... i ' m afraid when i ' m in this idiom , i sometimes get a bit , uh , sort of carried away . father : oh , don ' t worry about that . herbert : oooh ! [ splat ] scene 17 : guests : [ crying ] father : well , this is the main hall . we ' re going to have all this knocked through , and made into one big , uh , living room . guest : there he is ! father : oh , bloody hell . launcelot : ha ha ha ! hey ! ha ha ! father : hold it ! stop it ! hold it ! hold it ! hold it ! hold it ! hold it ! please ! launcelot : sorry . sorry . you see what i mean ? i just get carried away . i ' m really most awfully sorry . sorry ! sorry , everyone . guest # 1 : he ' s killed the best man ! guests : [ yelling ] father : hold it ! hold it ! please ! hold it ! this is sir launcelot from the court of camelot , a very brave and influential knight , and my special guest here today . launcelot : hello . guest : he killed my auntie ! guests : [ yelling ] father : please ! please ! this is supposed to be a happy occasion ! let ' s not bicker and argue about who killed who . we are here today to witness the union of two young people in the joyful bond of the holy wedlock . unfortunately , one of them , my son herbert , has just fallen to his death . guests : oh ! oh no ! father : but i don ' t want to think i ' ve not lost a son , so much as ... gained a daughter ! [ clap clap clap ] for , since the tragic death of her father -- guest # 2 : he ' s not quite dead ! father : since the near fatal wounding of her father -- guest # 2 : he ' s getting better ! father : for , since her own father , who , when he seemed about to recover , suddenly felt the icy hand of death upon him . bride ' s father : uugh ! guest # 2 : oh , he ' s died ! father : and i want his only daughter to look upon me as her old dad , in a very real , and legally binding sense . [ clap clap clap ] and i feel sure that the merger -- er , the union between the princess and the brave , but dangerous , sir launcelot of camelot -- launcelot : what ? guest # 2 : look ! the dead prince ! guests : oooh ! the dead prince ! concorde : he ' s not quite dead . herbert : no , i feel much better . father : you fell out of the tall tower , you creep ! herbert : no , i was saved at the last minute . father : how ?! herbert : well , i ' ll tell you . [ music ] father : not like that ! not like that ! no ! stop it ! guests : [ singing ] he ' s going to tell ! he ' s going to tell ! ... father : shut uuup ! guests : [ singing ] he ' s going to tell ! ... father : shut up ! guests : [ singing ] he ' s going to tell ! ... father : shut up ! guests : [ singing ] he ' s going to tell ! ... father : not like that ! guests : [ singing ] he ' s going to tell ! he ' s going to tell ! he ' s going to tell ! he ' s going to tell ! ... concorde : quickly , sir ! guests : [ singing ] he ' s going to tell ! ... concorde : come this way ! guests : [ singing ] he ' s going to tell ! he ' s going to tell ! ... launcelot : no ! it ' s not right for my idiom ! guests : [ singing ] he ' s going to tell about his great escape ... launcelot : i must escape more ... [ sigh ] guests : [ singing ] oh , he fell a long , long way ... concorde : dramatically , sir ? launcelot : dramatically ! guests : [ singing ] but he ' s here with us today ... launcelot : heee ! hoa ! [ crash ] hoo ! guests : [ singing ] what a wonderful escape ! launcelot : excuse me . could , uh -- could somebody give me a push , please scene 18 : [ king arthur music ] [ clop clop clop ] [ rewr ! rewr ! rewr ! rewr ! rewr ! rewr !] arthur : old crone ! [ rewr !] [ music stops ] is there anywhere in this town where we could buy a shrubbery ? [ dramatic chord ] old crone : who sent you ? arthur : the knights who say ' ni '. crone : aggh ! no ! never ! we have no shrubberies here . arthur : if you do not tell us where we can buy a shrubbery , my friend and i will say ... we will say ... ' ni '. crone : agh ! do your worst ! arthur : very well ! if you will not assist us voluntarily , ... ni ! crone : no ! never ! no shrubberies ! arthur : ni ! crone : [ cough ] bedevere : nu ! arthur : no , no , no , no ... bedevere : nu ! arthur : no , it ' s not that , it ' s ' ni '. bedevere : nu ! arthur : no , no -- ' ni '. you ' re not doing it properly . no . bedevere : ni ! arthur and bedevere : ni ! arthur : that ' s it . that ' s it . you ' ve got it . arthur and bedevere : ni ! crone : ohh ! bedevere : ni ! arthur : ni ! crone : agh ! bedevere : ni ! arthur : ni ! bedevere : ni ! arthur : ni ! bedevere : ni ! roger the shrubber : are you saying ' ni ' to that old woman ? arthur : erm , yes . roger : oh , what sad times are these when passing ruffians can ' ni ' at will to old ladies . there is a pestilence upon this land . nothing is sacred . even those who arrange and design shrubberies are under considerable economic stress at this period in history . arthur : did you say ' shrubberies '? roger : yes . shrubberies are my trade . i am a shrubber . my name is roger the shrubber . i arrange , design , and sell shrubberies . bedevere : ni ! arthur : no ! no , no , no ! no scene 19 : arthur : o knights of ni , we have brought you your shrubbery . may we go now ? head knight : it is a good shrubbery . i like the laurels particularly . but there is one small problem . arthur : what is that ? head knight : we are now ... no longer the knights who say ' ni '. knights of ni : ni ! shh ! head knight : shh ! we are now the knights who say ' ecky - ecky - ecky - ecky - pikang - zoop - boing - goodem - zoo - owli - zhiv '. random : ni ! head knight : therefore , we must give you a test . arthur : what is this test , o knights of -- knights who ' til recently said ' ni '? head knight : firstly , you must find ... another shrubbery ! [ dramatic chord ] arthur : not another shrubbery ! random : ni ! head knight : then , when you have found the shrubbery , you must place it here beside this shrubbery , only slightly higher so you get the two - level effect with a little path running down the middle . knights of ni : a path ! a path ! a path ! ni ! shh ! ni ! ni ! ni ! shh ! shh ! ... head knight : then , when you have found the shrubbery , you must cut down the mightiest tree in the forest ... with ... a herring ! [ dramatic chord ] arthur : we shall do no such thing ! head knight : oh , please ! arthur : cut down a tree with a herring ? it can ' t be done . knights of ni : aaaugh ! aaaugh ! head knight : augh ! ohh ! don ' t say that word . arthur : what word ? head knight : i cannot tell , suffice to say is one of the words the knights of ni cannot hear . arthur : how can we not say the word if you don ' t tell us what it is ? knights of ni : aaaaugh ! head knight : you said it again ! arthur : what , ' is '? knights of ni : agh ! no , not ' is '. head knight : no , not ' is '. you wouldn ' t get vary far in life not saying ' is '. knights of ni : no , not ' is '. not ' is '. bedevere : my liege , it ' s sir robin ! minstrel : [ singing ] packing it in and packing it up , and sneaking away and buggering up , and chickening out and pissing off home , yes , bravely he is throwing in the sponge . arthur : sir robin ! robin : my liege ! it ' s good to see you . head knight : now he ' s said the word ! arthur : surely you ' ve not given up your quest for the holy grail ? minstrel : [ singing ] he is sneaking away and buggering up -- robin : shut up ! no , no . no . far from it . head knight : he said the word again ! knights of ni : aaaaugh ! robin : i was looking for it . knights of ni : aaaaugh ! robin : uh , here -- here in this forest . arthur : no , it is far from this place . knights of ni : aaaaugh ! head knight : aaaaugh ! stop saying the word ! the word ... arthur : oh , stop it ! knights of ni : ... we cannot hear ! head knight : ow ! he said it again ! arthur : patsy ! head knight : wait ! i said it ! i said it ! [ clop clop clop ] ooh ! i said it again ! and there again ! that ' s three ' it ' s ! ohh ! knights of ni : aaaaugh narrator : and so , arthur and bedevere and sir robin set out on their search to find the enchanter of whom the old man had spoken in scene twenty - four . beyond the forest they met launcelot and galahad , and there was much rejoicing . knights : yay ! yay ! [ woosh ] narrator : in the frozen land of nador , they were forced to eat robin ' s minstrels . minstrel : [ high - pitched ] get back ! eee ! narrator : and there was much rejoicing . knights : yay ! narrator : a year passed . cartoon character : [ shivering ] narrator : winter changed into spring . cartoon character : mmm , nice . narrator : spring changed into summer . cartoon character : oh . ahh . narrator : summer changed back into winter . cartoon character : oh ? narrator : and winter gave spring and summer a miss and went straight on into autumn . cartoon character : aah . [ snap ] oh ! waa ! narrator : until one day .. scene 20 : [ king arthur music ] [ clop clop clop ] [ music stops ] [ boom ] knights : eh . oh . see it ? oh . oh . arthur : knights ! forward ! [ boom boom boom boom boom ] [ squeak ] [ boom boom boom boom ] what manner of man are you that can summon up fire without flint or tinder ? tim the enchanter : i ... am an enchanter . arthur : by what name are you known ? tim : there are some who call me ... tim ? arthur : greetings , tim the enchanter . tim : greetings , king arthur ! arthur : you know my name ? tim : i do . [ zoosh ] you seek the holy grail ! arthur : that is our quest . you know much that is hidden , o tim . tim : quite . [ pweeng boom ] [ clap clap clap ] robin : oh . arthur : yes , we ' re -- we ' re looking for the holy grail . our quest is to find the holy grail . knights : yeah . yes . it is . it is . yeah . yup . yup . hm . arthur : and so we ' re -- we ' re -- we ' re -- we ' re looking for it . bedevere : yes , we are . galahad : yeah . robin : we are . we are . bedevere : we have been for some time . robin : ages . bedevere : umhm . arthur : uh -- uh , so , uh , anything that you could do to , uh -- to help , would be ... very ... helpful . galahad : look , can you tell us where -- [ boom ] arthur : fine . um , i don ' t want to waste any more of your time , but , uh , i don ' t suppose you could , uh , tell us where we might find a , um -- find a , uh -- a , um -- a , uh -- tim : a what ...? arthur : a g -- a -- a g -- a g -- a -- a g -- tim : a grail ?! arthur : yes , i think so . robin : y -- y -- yes . arthur : yes . galahad : yup . knights : that ' s it ... tim : yes ! robin : oh . arthur : oh . thank you . robin : ahh . galahad : oh . fine . arthur : thank you . robin : splendid . knights : aah ... [ boom pweeng boom boom ] arthur : look , um , you ' re a busy man , uh -- tim : yes , i can help you find the holy grail . knights : oh , thank you . oh ... tim : to the north there lies a cave -- the cave of caerbannog -- wherein , carved in mystic runes upon the very living rock , the last words of olfin bedwere of rheged ... [ boom ] ... make plain the last resting place of the most holy grail . arthur : where could we find this cave , o tim ? tim : follow . but ! follow only if ye be men of valor , for the entrance to this cave is guarded by a creature so foul , so cruel that no man yet has fought with it and lived ! bones of full fifty men lie strewn about its lair . so , brave knights , if you do doubt your courage or your strength , come no further , for death awaits you all with nasty , big , pointy teeth . arthur : what an eccentric performance scene 21 : [ clop clop clop ] [ whinny whinny ] galahad : they ' re nervous , sire . arthur : then we ' d best leave them here and carry on on foot . dis - mount ! tim : behold the cave of caerbannog ! arthur : right ! keep me covered . galahad : what with ? arthur : w -- just keep me covered . tim : too late ! [ dramatic chord ] arthur : what ? tim : there he is ! arthur : where ? tim : there ! arthur : what , behind the rabbit ? tim : it is the rabbit ! arthur : you silly sod ! tim : what ? arthur : you got us all worked up ! tim : well , that ' s no ordinary rabbit . arthur : ohh . tim : that ' s the most foul , cruel , and bad - tempered rodent you ever set eyes on . robin : you tit ! i soiled my armor i was so scared ! tim : look , that rabbit ' s got a vicious streak a mile wide ; it ' s a killer ! galahad : get stuffed ! tim : he ' ll do you up a treat mate ! galahad : oh , yeah ? robin : you mangy scots git ! tim : i ' m warning you ! robin : what ' s he do , nibble your bum ? tim : he ' s got huge , sharp -- eh -- he can leap about -- look at the bones ! arthur : go on , bors . chop his head off ! bors : right ! silly little bleeder . one rabbit stew comin ' right up ! tim : look ! [ squeak ] bors : aaaugh ! [ dramatic chord ] [ clunk ] arthur : jesus christ ! tim : i warned you ! robin : i done it again ! tim : i warned you , but did you listen to me ? oh , no , you knew it all , didn ' t you ? oh , it ' s just a harmless little bunny , isn ' t it ? well , it ' s always the same . i always tell them -- arthur : oh , shut up ! tim : do they listen to me ? arthur : right ! tim : oh , no ... knights : charge ! [ squeak squeak squeak ] knights : aaaaugh !, aaaugh !, etc . arthur : run away ! run away ! knights : run away ! run away ! ... tim : ha ha ha ha ! ha haw haw ! ha ! ha ha ! arthur : right . how many did we lose ? launcelot : gawain . galahad : ector . arthur : and bors . that ' s five . galahad : three , sir . arthur : three . three . and we ' d better not risk another frontal assault . that rabbit ' s dynamite . robin : would it help to confuse it if we run away more ? arthur : oh , shut up and go and change your armor . galahad : let us taunt it ! it may become so cross that it will make a mistake . arthur : like what ? galahad : well ... ooh . launcelot : have we got bows ? arthur : no . launcelot : we have the holy hand grenade . arthur : yes , of course ! the holy hand grenade of antioch ! ' tis one of the sacred relics brother maynard carries with him ! brother maynard ! bring up the holy hand grenade ! monks : [ chanting ] pie iesu domine , dona eis requiem . pie iesu domine , donaeis requiem . pie iesu domine , dona eis requiem . pie iesu domine , dona eisrequiem . arthur : how does it , um -- how does it work ? launcelot : i know not , my liege . arthur : consult the book of armaments ! brother maynard : armaments , chapter two , verses nine to twenty - one . second brother : and saint attila raised the hand grenade up on high , saying ,' o lord , bless this thy hand grenade that with it thou mayest blow thine enemies to tiny bits , in thy mercy .' and the lord did grin , and the people did feast upon the lambs and sloths and carp and anchovies and orangutans and breakfast cereals and fruit bats and large chu -- maynard : skip a bit , brother . second brother : and the lord spake , saying , ' first shalt thou take out the holy pin . then , shalt thou count to three , no more , no less . three shalt be the number thou shalt count , and the number of the counting shall be three . four shalt thou not count , nor either count thou two , excepting that thou then proceed to three . five is right out . once the number three , being the third number , be reached , then lobbest thou thy holy hand grenade of antioch towards thy foe , who , being naughty in my sight , shall snuff it .' maynard : amen . knights : amen . arthur : right ! one ... two ... five ! galahad : three , sir ! arthur : three ! [ angels sing ] [ boom ] scene 22 : arthur : there ! look ! launcelot : what does it say ? galahad : what language is that ? arthur : brother maynard ! you are a scholar . maynard : it ' s aramaic ! galahad : of course ! joseph of arimathea ! launcelot : ' course ! arthur : what does it say ? maynard : it reads , ' here may be found the last words of joseph of arimathea . he who is valiant and pure of spirit may find the holy grail in the castle of uuggggggh '. arthur : what ? maynard : '... the castle of uuggggggh '. bedevere : what is that ? maynard : he must have died while carving it . launcelot : oh , come on ! maynard : well , that ' s what it says . arthur : look , if he was dying , he wouldn ' t bother to carve ' aaggggh '. he ' d just say it ! maynard : well , that ' s what ' s carved in the rock ! galahad : perhaps he was dictating . arthur : oh , shut up . well , does it say anything else ? maynard : no . just , ' uuggggggh '. launcelot : aauuggghhh . arthur : aaauggh . bedevere : do you suppose he meant the camaaaaaargue ? galahad : where ' s that ? bedevere : france , i think . launcelot : isn ' t there a saint aauuuves in cornwall ? arthur : no , that ' s saint ives . launcelot : oh , yes . saint iiiives . knights : iiiiives . bedevere : oooohoohohooo ! launcelot : no , no . ' aauuuuugh ', at the back of the throat . aauuugh . bedevere : n -- no . no , no , no , no . ' oooooooh ', in surprise and alarm . launcelot : oh , you mean sort of a ' aaaah '! bedevere : yes , but i -- aaaaaah ! arthur : oooh ! galahad : my god ! [ dramatic chord ] [ roar ] maynard : it ' s the legendary black beast of aaauugh ! [ black beast of aaauugh eats brother maynard ] bedevere : that ' s it ! that ' s it ! arthur : run away ! knights : run away ! [ roar ] run away ! run awaaay ! run awaaaaay ! [ roar ] keep running ! [ boom ] [ roar ] shh ! shh ! shh ! shh ! shh ! shh ! shh ! shh ! ... bedevere : we ' ve lost him . [ roar ] knights : aagh ! narrator : as the horrendous black beast lunged forward , escape for arthur and his knights seemed hopeless , when suddenly , the animator suffered a fatal heart attack . animator : ulk ! [ thump ] narrator : the cartoon peril was no more . the quest for holy grail could continue . scene 23 : [ gurgle ] galahad : there it is ! arthur : the bridge of death ! robin : oh , great . arthur : look ! there ' s the old man from scene twenty - four ! bedevere : what is he doing here ? arthur : he is the keeper of the bridge of death . he asks each traveller five questions -- galahad : three questions . arthur : three questions . he who answers the five questions -- galahad : three questions . arthur : three questions may cross in safety . robin : what if you get a question wrong ? arthur : then you are cast into the gorge of eternal peril . robin : oh , i won ' t go . galahad : who ' s going to answer the questions ? arthur : sir robin ! robin : yes ? arthur : brave sir robin , you go . robin : hey ! i ' ve got a great idea . why doesn ' t launcelot go ? launcelot : yes . let me go , my liege . i will take him single - handed . i shall make a feint to the north - east that s -- arthur : no , no . no . hang on ! hang on ! hang on ! just answer the five questions -- galahad : three questions . arthur : three questions as best you can . and we shall watch ... and pray . launcelot : i understand , my liege . arthur : good luck , brave sir launcelot . god be with you . bridgekeeper : stop ! who would cross the bridge of death must answer me these questions three , ere the other side he see . launcelot : ask me the questions , bridgekeeper . i am not afraid . bridgekeeper : what is your name ? launcelot : my name is sir launcelot of camelot . bridgekeeper : what is your quest ? launcelot : to seek the holy grail . bridgekeeper : what is your favorite color ? launcelot : blue . bridgekeeper : right . off you go . launcelot : oh , thank you . thank you very much . robin : that ' s easy ! bridgekeeper : stop ! who approacheth the bridge of death must answer me these questions three , ere the other side he see . robin : ask me the questions , bridgekeeper . i ' m not afraid . bridgekeeper : what is your name ? robin : sir robin of camelot . bridgekeeper : what is your quest ? robin : to seek the holy grail . bridgekeeper : what is the capital of assyria ? robin : i don ' t know that ! auuuuuuuugh ! bridgekeeper : stop ! what is your name ? galahad : sir galahad of camelot . bridgekeeper : what is your quest ? galahad : i seek the grail . bridgekeeper : what is your favorite color ? galahad : blue . no yel -- auuuuuuuugh ! bridgekeeper : hee hee heh . stop ! what is your name ? arthur : it is arthur , king of the britons . bridgekeeper : what is your quest ? arthur : to seek the holy grail . bridgekeeper : what is the air - speed velocity of an unladen swallow ? arthur : what do you mean ? an african or european swallow ? bridgekeeper : huh ? i -- i don ' t know that ! auuuuuuuugh ! bedevere : how do know so much about swallows ? arthur : well , you have to know these things when you ' re a king , you know . [ suspenseful music ] [ music suddenly stops ] [ intermission ] [ suspenseful music resumes ] scene 24 : arthur : launcelot ! launcelot ! launcelot ! bedevere : launcelot ! launcelot ! arthur : launcelot ! [ police radio ] launcelot ! bedevere : launcelot ! launcelot ! [ angels sing ] [ singing stops ] [ ethereal music ] arthur : the castle aaagh . our quest is at an end ! god be praised ! almighty god , we thank thee that thou hast vouchsafed to us the most holy -- [ twong ] [ baaaa ] jesus christ ! [ thud ] french guard : allo , dappy english k - niggets and monsieur arthur king , who has the brain of a duck , you know . so , we french fellows outwit you a second time ! arthur : how dare you profane this place with your presence ! i command you , in the name of the knights of camelot , to open the doors of this sacred castle , to which god himself has guided us ! french guard : how you english say , ' i one more time , mac , unclog my nose in your direction ', sons of a window - dresser ! so , you think you could out - clever us french folk with your silly knees - bent running about advancing behaviour ?! i wave my private parts at your aunties , you cheesy lot of second hand electric donkey - bottom biters . arthur : in the name of the lord , we demand entrance to this sacred castle ! french guard : no chance , english bed - wetting types . i burst my pimples at you and call your door - opening request a silly thing , you tiny - brained wipers of other people ' s bottoms ! arthur : if you do not open this door , we shall take this castle by force ! [ splat ] in the name of god and the glory of our -- [ splat ] french guards : [ laughing ] arthur : agh . right ! that settles it ! french guard : yes , depart a lot at this time , and cut the approaching any more or we fire arrows at the tops of your heads and make castanets out of your testicles already ! ha ha haaa ha ! arthur : walk away . just ignore them . french guard : and now , remain gone , illegitimate - faced bugger - folk ! and , if you think you got a nasty taunting this time , you ain ' t heard nothing yet , dappy english k - nnniggets ! thpppt ! french guards : [ taunting ] arthur : we shall attack at once ! bedevere : yes , my liege ! arthur : stand by for attack ! [ exciting music ] [ music stops ] [ silence ] french persons ! french guards : [ taunting ] ... dappy ! ... arthur : today the blood of many a valiant knight shall be avenged . in the name of god , ... french guards : hoo hoo ! ohh , ha ha ha ha ha ! ... arthur : ... we shall not stop our fight ' til each one of you lies dead , and the holy grail returns to those whom god has chosen ! french guards : ... ha ha ha ! ... arthur : charge ! army of knights : hooray ! [ police siren ] historian ' s wife : yes . they ' re the ones . i ' m sure . inspector : come on . anybody armed must go too . officer # 1 : all right . come on . back . historian ' s wife : get that one . officer # 1 : back . right away . just ... pull it off . come on . come along . inspector : put this man in the van . officer # 1 : clear off . come on . bedevere : with whom ? inspector : which one ? officer # 1 : oh -- this one . inspector : come on . put him in the van . officer # 2 : get a blanket . officer # 1 : we have no hospital . random : ahh . [ squeak ] random : ooh . officer # 1 : come on . back . riiight back . come on ! officer # 2 : run along ! run along ! officer # 1 : pull that off . my , that ' s an offensive weapon , that is . officer # 2 : come on . back with ' em . back . right . come along . inspector : everything ? [ squeak ] officer # 1 : all right , sonny . that ' s enough . just pack that in . [ crash ] cameraman : christ !\""
      ]
     },
     "execution_count": 4,
     "metadata": {},
     "output_type": "execute_result"
    }
   ],
   "source": [
    "output = \" \".join(words)\n",
    "output"
   ]
  },
  {
   "cell_type": "code",
   "execution_count": 5,
   "metadata": {},
   "outputs": [],
   "source": [
    "# Bigram\n",
    "from nltk.collocations import BigramCollocationFinder\n",
    "from nltk.metrics import BigramAssocMeasures"
   ]
  },
  {
   "cell_type": "code",
   "execution_count": 6,
   "metadata": {},
   "outputs": [],
   "source": [
    "bcf = BigramCollocationFinder.from_words(words=words)"
   ]
  },
  {
   "cell_type": "code",
   "execution_count": 8,
   "metadata": {},
   "outputs": [
    {
     "name": "stdout",
     "output_type": "stream",
     "text": [
      "[(\"'\", 's'), ('arthur', ':'), ('#', '1'), (\"'\", 't'), ('villager', '#'), ('#', '2'), (']', '['), ('1', ':'), ('oh', ','), ('black', 'knight')]\n"
     ]
    }
   ],
   "source": [
    "print(bcf.nbest(BigramAssocMeasures.likelihood_ratio, 10)) # Only prints out 10 combinations"
   ]
  },
  {
   "cell_type": "code",
   "execution_count": 18,
   "metadata": {},
   "outputs": [
    {
     "data": {
      "text/plain": [
       "[('black', 'knight'),\n",
       " ('clop', 'clop'),\n",
       " ('head', 'knight'),\n",
       " ('mumble', 'mumble'),\n",
       " ('squeak', 'squeak'),\n",
       " ('saw', 'saw'),\n",
       " ('holy', 'grail'),\n",
       " ('run', 'away'),\n",
       " ('french', 'guard'),\n",
       " ('cartoon', 'character')]"
      ]
     },
     "execution_count": 18,
     "metadata": {},
     "output_type": "execute_result"
    }
   ],
   "source": [
    "from nltk.corpus import stopwords\n",
    "stopset = set(stopwords.words('english'))\n",
    "filter_stops = lambda w: len(w) < 3 or w in stopset\n",
    "bcf = BigramCollocationFinder.from_words(words=words)\n",
    "bcf.apply_word_filter(filter_stops)\n",
    "\n",
    "bcf.nbest(BigramAssocMeasures.likelihood_ratio, 10)"
   ]
  },
  {
   "cell_type": "code",
   "execution_count": 19,
   "metadata": {},
   "outputs": [
    {
     "data": {
      "text/plain": [
       "[('black', 'knight'),\n",
       " ('clop', 'clop'),\n",
       " ('head', 'knight'),\n",
       " ('mumble', 'mumble'),\n",
       " ('french', 'guard')]"
      ]
     },
     "execution_count": 19,
     "metadata": {},
     "output_type": "execute_result"
    }
   ],
   "source": [
    "# Let's only keep the biagram that are repeated minimum of n times\n",
    "n = 20\n",
    "bcf.apply_freq_filter(n)\n",
    "bcf.nbest(BigramAssocMeasures.likelihood_ratio, 10)"
   ]
  },
  {
   "cell_type": "code",
   "execution_count": 20,
   "metadata": {},
   "outputs": [
    {
     "data": {
      "text/plain": [
       "[('clop', 'clop', 'clop'),\n",
       " ('mumble', 'mumble', 'mumble'),\n",
       " ('squeak', 'squeak', 'squeak'),\n",
       " ('saw', 'saw', 'saw'),\n",
       " ('pie', 'iesu', 'domine'),\n",
       " ('clap', 'clap', 'clap'),\n",
       " ('dona', 'eis', 'requiem'),\n",
       " ('brave', 'sir', 'robin'),\n",
       " ('heh', 'heh', 'heh'),\n",
       " ('king', 'arthur', 'music')]"
      ]
     },
     "execution_count": 20,
     "metadata": {},
     "output_type": "execute_result"
    }
   ],
   "source": [
    "from nltk.collocations import TrigramCollocationFinder\n",
    "from nltk.metrics import TrigramAssocMeasures\n",
    "words = [w.lower() for w in webtext.words('grail.txt')] # try 'singles.txt'\n",
    "tcf = TrigramCollocationFinder.from_words(words)\n",
    "tcf.apply_word_filter(filter_stops)\n",
    "# Only keep the Triagram that are repeated minimum of n times\n",
    "n = 5\n",
    "tcf.apply_freq_filter(n)\n",
    "tcf.nbest(TrigramAssocMeasures.likelihood_ratio, 10)"
   ]
  },
  {
   "cell_type": "code",
   "execution_count": 21,
   "metadata": {},
   "outputs": [
    {
     "name": "stdout",
     "output_type": "stream",
     "text": [
      "13\n"
     ]
    }
   ],
   "source": [
    "import re\n",
    "print(len(re.findall('clop clop clop', output))) # count"
   ]
  },
  {
   "cell_type": "code",
   "execution_count": 22,
   "metadata": {},
   "outputs": [
    {
     "name": "stdout",
     "output_type": "stream",
     "text": [
      "('clop', 'clop', 'clop') 13\n",
      "('king', 'arthur', 'music') 9\n",
      "('pie', 'iesu', 'domine') 10\n",
      "('dona', 'eis', 'requiem') 7\n",
      "('clap', 'clap', 'clap') 5\n",
      "('saw', 'saw', 'saw') 14\n",
      "('squeak', 'squeak', 'squeak') 15\n",
      "('brave', 'sir', 'robin') 8\n",
      "('heh', 'heh', 'heh') 5\n",
      "('mumble', 'mumble', 'mumble') 10\n",
      "('boom', 'boom', 'boom') 5\n"
     ]
    }
   ],
   "source": [
    "for k, v in tcf.ngram_fd.items():\n",
    "    print(k, v)"
   ]
  },
  {
   "cell_type": "code",
   "execution_count": 26,
   "metadata": {},
   "outputs": [
    {
     "name": "stdout",
     "output_type": "stream",
     "text": [
      "(('this', 'is', 'a'), 9.047123912114026)\n",
      "(('is', 'a', 'foo'), 7.46216141139287)\n",
      "(('black', 'sheep', 'shep'), 5.46216141139287)\n",
      "(('black', 'sheep', 'foo'), 4.877198910671714)\n",
      "(('a', 'foo', 'bar'), 4.46216141139287)\n",
      "(('sheep', 'shep', 'bar'), 4.46216141139287)\n",
      "(('bar', 'black', 'sentence'), 4.047123912114026)\n",
      "(('bar', 'black', 'sheep'), 4.047123912114026)\n",
      "(('sheep', 'foo', 'bar'), 3.877198910671714)\n",
      "(('bar', 'bar', 'black'), 3.047123912114026)\n",
      "(('foo', 'bar', 'bar'), 3.047123912114026)\n",
      "(('shep', 'bar', 'bar'), 3.047123912114026)\n"
     ]
    }
   ],
   "source": [
    "import nltk\n",
    "from nltk.collocations import *\n",
    "from nltk.tokenize  import word_tokenize\n",
    "text = \"this is a foo bar bar black sheep foo bar bar black sheep foo bar bar black sheep shep bar bar black sentence\"\n",
    "trigram_measures = nltk.collocations.TrigramAssocMeasures()\n",
    "finder = TrigramCollocationFinder.from_words(word_tokenize(text))\n",
    "\n",
    "for i in finder.score_ngrams(trigram_measures.pmi):\n",
    "    print(i)"
   ]
  },
  {
   "cell_type": "code",
   "execution_count": 27,
   "metadata": {},
   "outputs": [
    {
     "name": "stdout",
     "output_type": "stream",
     "text": [
      "(('dona', 'eis', 'requiem'), 22.10088775712962)\n",
      "(('pie', 'iesu', 'domine'), 21.45703156735489)\n",
      "(('saw', 'saw', 'saw'), 19.645854155436204)\n",
      "(('clap', 'clap', 'clap'), 18.702144065191423)\n",
      "(('squeak', 'squeak', 'squeak'), 17.43383536735542)\n",
      "(('heh', 'heh', 'heh'), 17.044520996105085)\n",
      "(('mumble', 'mumble', 'mumble'), 16.702144065191423)\n",
      "(('clop', 'clop', 'clop'), 15.945120818683966)\n",
      "(('brave', 'sir', 'robin'), 14.613550141922435)\n",
      "(('boom', 'boom', 'boom'), 13.947256563027953)\n",
      "(('king', 'arthur', 'music'), 13.136998253430885)\n"
     ]
    }
   ],
   "source": [
    "for i in tcf.score_ngrams(trigram_measures.pmi):\n",
    "    print(i)"
   ]
  },
  {
   "cell_type": "code",
   "execution_count": 28,
   "metadata": {},
   "outputs": [],
   "source": [
    "from nltk.corpus import wordnet"
   ]
  },
  {
   "cell_type": "code",
   "execution_count": 29,
   "metadata": {},
   "outputs": [
    {
     "name": "stdout",
     "output_type": "stream",
     "text": [
      "[Synset('cat.n.01'), Synset('guy.n.01'), Synset('cat.n.03'), Synset('kat.n.01'), Synset('cat-o'-nine-tails.n.01'), Synset('caterpillar.n.02'), Synset('big_cat.n.01'), Synset('computerized_tomography.n.01'), Synset('cat.v.01'), Synset('vomit.v.01')]\n"
     ]
    }
   ],
   "source": [
    "syn = wordnet.synsets('cat')\n",
    "print(syn)"
   ]
  },
  {
   "cell_type": "code",
   "execution_count": 30,
   "metadata": {},
   "outputs": [
    {
     "name": "stderr",
     "output_type": "stream",
     "text": [
      "[nltk_data] Downloading package omw-1.4 to\n",
      "[nltk_data]     /Users/sunilthapa/nltk_data...\n",
      "[nltk_data]   Package omw-1.4 is already up-to-date!\n",
      "[nltk_data] Downloading package wordnet to\n",
      "[nltk_data]     /Users/sunilthapa/nltk_data...\n",
      "[nltk_data]   Package wordnet is already up-to-date!\n"
     ]
    },
    {
     "data": {
      "text/plain": [
       "True"
      ]
     },
     "execution_count": 30,
     "metadata": {},
     "output_type": "execute_result"
    }
   ],
   "source": [
    "nltk.download('omw-1.4')\n",
    "nltk.download('wordnet')"
   ]
  },
  {
   "cell_type": "code",
   "execution_count": 33,
   "metadata": {},
   "outputs": [
    {
     "name": "stdout",
     "output_type": "stream",
     "text": [
      "{'effective', 'expert', 'soundly', 'thoroughly', 'in_force', 'near', 'beneficial', 'skillful', 'honorable', 'salutary', 'trade_good', 'practiced', 'undecomposed', 'estimable', 'dear', 'respectable', 'right', 'serious', 'proficient', 'good', 'adept', 'upright', 'goodness', 'dependable', 'unspoiled', 'commodity', 'well', 'honest', 'unspoilt', 'full', 'in_effect', 'skilful', 'safe', 'secure', 'sound', 'ripe', 'just'}\n",
      "{'badness', 'bad', 'ill', 'evil', 'evilness'}\n"
     ]
    }
   ],
   "source": [
    "synonyms = []\n",
    "antonyms = []\n",
    "input_word = input()\n",
    "for syn in wordnet.synsets(input_word):\n",
    "    for l in syn.lemmas():\n",
    "        synonyms.append(l.name())\n",
    "        if l.antonyms():\n",
    "            antonyms.append(l.antonyms()[0].name()) #bad.n.01 so [0] gives name\n",
    "\n",
    "print(set(synonyms))\n",
    "print(set(antonyms))"
   ]
  },
  {
   "cell_type": "code",
   "execution_count": 34,
   "metadata": {},
   "outputs": [
    {
     "name": "stdout",
     "output_type": "stream",
     "text": [
      "syns:  [Synset('jump.n.01'), Synset('leap.n.02'), Synset('jump.n.03'), Synset('startle.n.01'), Synset('jump.n.05'), Synset('jump.n.06'), Synset('jump.v.01'), Synset('startle.v.02'), Synset('jump.v.03'), Synset('jump.v.04'), Synset('leap_out.v.01'), Synset('jump.v.06'), Synset('rise.v.11'), Synset('jump.v.08'), Synset('derail.v.02'), Synset('chute.v.01'), Synset('jump.v.11'), Synset('jumpstart.v.01'), Synset('jump.v.13'), Synset('leap.v.02'), Synset('alternate.v.01')]\n"
     ]
    }
   ],
   "source": [
    "syns = wordnet.synsets('jump')\n",
    "print(\"syns: \", syns)"
   ]
  },
  {
   "cell_type": "code",
   "execution_count": 36,
   "metadata": {},
   "outputs": [
    {
     "name": "stdout",
     "output_type": "stream",
     "text": [
      "jump.n.01\n"
     ]
    }
   ],
   "source": [
    "print(syns[0].name())"
   ]
  },
  {
   "cell_type": "code",
   "execution_count": 38,
   "metadata": {},
   "outputs": [
    {
     "data": {
      "text/plain": [
       "'jump'"
      ]
     },
     "execution_count": 38,
     "metadata": {},
     "output_type": "execute_result"
    }
   ],
   "source": [
    "syns[0].lemmas()[0].name()"
   ]
  },
  {
   "cell_type": "code",
   "execution_count": 44,
   "metadata": {},
   "outputs": [
    {
     "data": {
      "text/plain": [
       "'a sudden and decisive increase'"
      ]
     },
     "execution_count": 44,
     "metadata": {},
     "output_type": "execute_result"
    }
   ],
   "source": [
    "syns[0].definition()"
   ]
  },
  {
   "cell_type": "code",
   "execution_count": 45,
   "metadata": {},
   "outputs": [
    {
     "data": {
      "text/plain": [
       "['a jump in attendance']"
      ]
     },
     "execution_count": 45,
     "metadata": {},
     "output_type": "execute_result"
    }
   ],
   "source": [
    "syns[0].examples()"
   ]
  },
  {
   "cell_type": "code",
   "execution_count": 55,
   "metadata": {},
   "outputs": [
    {
     "data": {
      "text/plain": [
       "0.9090909090909091"
      ]
     },
     "execution_count": 55,
     "metadata": {},
     "output_type": "execute_result"
    }
   ],
   "source": [
    "w1 = wordnet.synset('ship.n.01')\n",
    "w2 = wordnet.synset('boat.n.01')\n",
    "w1.wup_similarity(w2)"
   ]
  },
  {
   "cell_type": "code",
   "execution_count": 56,
   "metadata": {},
   "outputs": [
    {
     "name": "stdout",
     "output_type": "stream",
     "text": [
      "syns:  [Synset('spring.n.01'), Synset('spring.n.02'), Synset('spring.n.03'), Synset('spring.n.04'), Synset('give.n.01'), Synset('leap.n.01'), Synset('jump.v.01'), Synset('form.v.03'), Synset('bounce.v.01'), Synset('spring.v.04'), Synset('spring.v.05')]\n",
      "spring.n.01\n",
      "spring\n",
      "the season of growth\n",
      "['the emerging buds were a sure sign of spring', 'he will hold office until the spring of next year']\n"
     ]
    }
   ],
   "source": [
    "syns = wordnet.synsets('spring')\n",
    "print(\"syns: \", syns)\n",
    "\n",
    "print(syns[0].name())\n",
    "\n",
    "print(syns[0].lemmas()[0].name())\n",
    "\n",
    "print(syns[0].definition())\n",
    "\n",
    "print(syns[0].examples())"
   ]
  },
  {
   "cell_type": "code",
   "execution_count": 64,
   "metadata": {},
   "outputs": [
    {
     "data": {
      "text/plain": [
       "0.5"
      ]
     },
     "execution_count": 64,
     "metadata": {},
     "output_type": "execute_result"
    }
   ],
   "source": [
    "w1 = wordnet.synset('leap.n.01')\n",
    "w2 = wordnet.synset('jump.n.01')\n",
    "w1.wup_similarity(w2)"
   ]
  },
  {
   "cell_type": "code",
   "execution_count": 68,
   "metadata": {},
   "outputs": [
    {
     "data": {
      "text/plain": [
       "0.26666666666666666"
      ]
     },
     "execution_count": 68,
     "metadata": {},
     "output_type": "execute_result"
    }
   ],
   "source": [
    "w1 = wordnet.synset('spring.n.01')\n",
    "w2 = wordnet.synset('jump.n.01')\n",
    "w1.wup_similarity(w2)"
   ]
  },
  {
   "cell_type": "code",
   "execution_count": 69,
   "metadata": {},
   "outputs": [],
   "source": [
    "import re\n",
    "def remove_lengthening(text):\n",
    "    patt = re.compile(r\"(.)\\1{2,}\")\n",
    "    return patt.sub(r\"\\1\\1\", text)"
   ]
  },
  {
   "cell_type": "code",
   "execution_count": 70,
   "metadata": {},
   "outputs": [
    {
     "data": {
      "text/plain": [
       "'book'"
      ]
     },
     "execution_count": 70,
     "metadata": {},
     "output_type": "execute_result"
    }
   ],
   "source": [
    "remove_lengthening(\"boooooook\")"
   ]
  },
  {
   "cell_type": "code",
   "execution_count": 73,
   "metadata": {},
   "outputs": [],
   "source": [
    "def remove_lengthening(text):\n",
    "    patt = re.compile(r\"(\\w)\\1{2,}\")\n",
    "    return patt.sub(r\"\\1\\1\", text)"
   ]
  },
  {
   "cell_type": "code",
   "execution_count": 74,
   "metadata": {},
   "outputs": [
    {
     "data": {
      "text/plain": [
       "'book'"
      ]
     },
     "execution_count": 74,
     "metadata": {},
     "output_type": "execute_result"
    }
   ],
   "source": [
    "remove_lengthening(\"boooooook\")"
   ]
  },
  {
   "cell_type": "code",
   "execution_count": 75,
   "metadata": {},
   "outputs": [
    {
     "name": "stdout",
     "output_type": "stream",
     "text": [
      "Collecting autocorrect\n",
      "  Downloading autocorrect-2.6.1.tar.gz (622 kB)\n",
      "\u001b[K     |████████████████████████████████| 622 kB 2.9 MB/s eta 0:00:01\n",
      "\u001b[?25hBuilding wheels for collected packages: autocorrect\n",
      "  Building wheel for autocorrect (setup.py) ... \u001b[?25ldone\n",
      "\u001b[?25h  Created wheel for autocorrect: filename=autocorrect-2.6.1-py3-none-any.whl size=622382 sha256=df5a949a62e6ea8932b529b3659e85fc4be90e9f57edf8870bee5c555b7c2919\n",
      "  Stored in directory: /Users/sunilthapa/Library/Caches/pip/wheels/ab/0f/23/3c010c3fd877b962146e7765f9e9b08026cac8b035094c5750\n",
      "Successfully built autocorrect\n",
      "Installing collected packages: autocorrect\n",
      "Successfully installed autocorrect-2.6.1\n"
     ]
    }
   ],
   "source": [
    "!pip install autocorrect"
   ]
  },
  {
   "cell_type": "code",
   "execution_count": 78,
   "metadata": {},
   "outputs": [
    {
     "name": "stdout",
     "output_type": "stream",
     "text": [
      "message\n",
      "service\n",
      "the\n",
      "car\n",
      "aaaaaa\n"
     ]
    }
   ],
   "source": [
    "from autocorrect import Speller\n",
    "spell = Speller(lang='en')\n",
    "print(spell('mussage'))\n",
    "print(spell('survice'))\n",
    "print(spell('hte'))\n",
    "print(spell('caaar'))\n",
    "print(spell('caaaaar'))"
   ]
  },
  {
   "cell_type": "code",
   "execution_count": 79,
   "metadata": {},
   "outputs": [
    {
     "name": "stdout",
     "output_type": "stream",
     "text": [
      "Collecting pattern\n",
      "  Downloading Pattern-3.6.0.tar.gz (22.2 MB)\n",
      "\u001b[K     |████████████████████████████████| 22.2 MB 1.1 MB/s eta 0:00:01\n",
      "\u001b[?25hCollecting future\n",
      "  Downloading future-0.18.3.tar.gz (840 kB)\n",
      "\u001b[K     |████████████████████████████████| 840 kB 296 kB/s eta 0:00:01\n",
      "\u001b[?25hCollecting backports.csv\n",
      "  Downloading backports.csv-1.0.7-py2.py3-none-any.whl (12 kB)\n",
      "Collecting mysqlclient\n",
      "  Downloading mysqlclient-2.1.1.tar.gz (88 kB)\n",
      "\u001b[K     |████████████████████████████████| 88 kB 649 kB/s eta 0:00:01\n",
      "\u001b[?25hRequirement already satisfied: beautifulsoup4 in /Users/sunilthapa/opt/miniconda3/lib/python3.9/site-packages (from pattern) (4.11.1)\n",
      "Requirement already satisfied: lxml in /Users/sunilthapa/opt/miniconda3/lib/python3.9/site-packages (from pattern) (4.9.1)\n",
      "Collecting feedparser\n",
      "  Downloading feedparser-6.0.10-py3-none-any.whl (81 kB)\n",
      "\u001b[K     |████████████████████████████████| 81 kB 1.2 MB/s eta 0:00:01\n",
      "\u001b[?25hCollecting pdfminer.six\n",
      "  Downloading pdfminer.six-20221105-py3-none-any.whl (5.6 MB)\n",
      "\u001b[K     |████████████████████████████████| 5.6 MB 2.0 MB/s eta 0:00:01\n",
      "\u001b[?25hRequirement already satisfied: numpy in /Users/sunilthapa/opt/miniconda3/lib/python3.9/site-packages (from pattern) (1.23.2)\n",
      "Requirement already satisfied: scipy in /Users/sunilthapa/opt/miniconda3/lib/python3.9/site-packages (from pattern) (1.9.1)\n",
      "Requirement already satisfied: nltk in /Users/sunilthapa/opt/miniconda3/lib/python3.9/site-packages (from pattern) (3.7)\n",
      "Collecting python-docx\n",
      "  Downloading python-docx-0.8.11.tar.gz (5.6 MB)\n",
      "\u001b[K     |████████████████████████████████| 5.6 MB 2.6 MB/s eta 0:00:011\n",
      "\u001b[?25hCollecting cherrypy\n",
      "  Downloading CherryPy-18.8.0-py2.py3-none-any.whl (348 kB)\n",
      "\u001b[K     |████████████████████████████████| 348 kB 1.7 MB/s eta 0:00:01\n",
      "\u001b[?25hRequirement already satisfied: requests in /Users/sunilthapa/opt/miniconda3/lib/python3.9/site-packages (from pattern) (2.27.1)\n",
      "Requirement already satisfied: soupsieve>1.2 in /Users/sunilthapa/opt/miniconda3/lib/python3.9/site-packages (from beautifulsoup4->pattern) (2.3.2.post1)\n",
      "Collecting more-itertools\n",
      "  Downloading more_itertools-9.0.0-py3-none-any.whl (52 kB)\n",
      "\u001b[K     |████████████████████████████████| 52 kB 11.9 MB/s  eta 0:00:01\n",
      "\u001b[?25hCollecting cheroot>=8.2.1\n",
      "  Downloading cheroot-9.0.0-py2.py3-none-any.whl (100 kB)\n",
      "\u001b[K     |████████████████████████████████| 100 kB 9.7 MB/s eta 0:00:01\n",
      "\u001b[?25hCollecting zc.lockfile\n",
      "  Downloading zc.lockfile-2.0-py2.py3-none-any.whl (9.7 kB)\n",
      "Collecting portend>=2.1.1\n",
      "  Downloading portend-3.1.0-py3-none-any.whl (5.3 kB)\n",
      "Collecting jaraco.collections\n",
      "  Downloading jaraco.collections-3.8.0-py3-none-any.whl (10 kB)\n",
      "Requirement already satisfied: six>=1.11.0 in /Users/sunilthapa/opt/miniconda3/lib/python3.9/site-packages (from cheroot>=8.2.1->cherrypy->pattern) (1.16.0)\n",
      "Collecting jaraco.functools\n",
      "  Downloading jaraco.functools-3.5.2-py3-none-any.whl (7.3 kB)\n",
      "Collecting tempora>=1.8\n",
      "  Downloading tempora-5.2.1-py3-none-any.whl (13 kB)\n",
      "Requirement already satisfied: pytz in /Users/sunilthapa/opt/miniconda3/lib/python3.9/site-packages (from tempora>=1.8->portend>=2.1.1->cherrypy->pattern) (2022.2.1)\n",
      "Collecting sgmllib3k\n",
      "  Downloading sgmllib3k-1.0.0.tar.gz (5.8 kB)\n",
      "Collecting jaraco.text\n",
      "  Downloading jaraco.text-3.11.1-py3-none-any.whl (11 kB)\n",
      "Collecting jaraco.classes\n",
      "  Downloading jaraco.classes-3.2.3-py3-none-any.whl (6.0 kB)\n",
      "Collecting jaraco.context>=4.1\n",
      "  Downloading jaraco.context-4.3.0-py3-none-any.whl (5.3 kB)\n",
      "Collecting autocommand\n",
      "  Downloading autocommand-2.2.2-py3-none-any.whl (19 kB)\n",
      "Collecting inflect\n",
      "  Downloading inflect-6.0.2-py3-none-any.whl (34 kB)\n",
      "Requirement already satisfied: pydantic>=1.9.1 in /Users/sunilthapa/opt/miniconda3/lib/python3.9/site-packages (from inflect->jaraco.text->jaraco.collections->cherrypy->pattern) (1.10.4)\n",
      "Requirement already satisfied: typing-extensions>=4.2.0 in /Users/sunilthapa/opt/miniconda3/lib/python3.9/site-packages (from pydantic>=1.9.1->inflect->jaraco.text->jaraco.collections->cherrypy->pattern) (4.4.0)\n",
      "Requirement already satisfied: joblib in /Users/sunilthapa/opt/miniconda3/lib/python3.9/site-packages (from nltk->pattern) (1.1.0)\n",
      "Requirement already satisfied: regex>=2021.8.3 in /Users/sunilthapa/opt/miniconda3/lib/python3.9/site-packages (from nltk->pattern) (2022.10.31)\n",
      "Requirement already satisfied: click in /Users/sunilthapa/opt/miniconda3/lib/python3.9/site-packages (from nltk->pattern) (8.1.3)\n",
      "Requirement already satisfied: tqdm in /Users/sunilthapa/opt/miniconda3/lib/python3.9/site-packages (from nltk->pattern) (4.64.0)\n",
      "Requirement already satisfied: charset-normalizer>=2.0.0 in /Users/sunilthapa/opt/miniconda3/lib/python3.9/site-packages (from pdfminer.six->pattern) (2.0.4)\n",
      "Requirement already satisfied: cryptography>=36.0.0 in /Users/sunilthapa/opt/miniconda3/lib/python3.9/site-packages (from pdfminer.six->pattern) (37.0.1)\n",
      "Requirement already satisfied: cffi>=1.12 in /Users/sunilthapa/opt/miniconda3/lib/python3.9/site-packages (from cryptography>=36.0.0->pdfminer.six->pattern) (1.15.0)\n",
      "Requirement already satisfied: pycparser in /Users/sunilthapa/opt/miniconda3/lib/python3.9/site-packages (from cffi>=1.12->cryptography>=36.0.0->pdfminer.six->pattern) (2.21)\n",
      "Requirement already satisfied: certifi>=2017.4.17 in /Users/sunilthapa/opt/miniconda3/lib/python3.9/site-packages (from requests->pattern) (2022.5.18.1)\n",
      "Requirement already satisfied: urllib3<1.27,>=1.21.1 in /Users/sunilthapa/opt/miniconda3/lib/python3.9/site-packages (from requests->pattern) (1.26.9)\n",
      "Requirement already satisfied: idna<4,>=2.5 in /Users/sunilthapa/opt/miniconda3/lib/python3.9/site-packages (from requests->pattern) (3.3)\n",
      "Requirement already satisfied: setuptools in /Users/sunilthapa/opt/miniconda3/lib/python3.9/site-packages (from zc.lockfile->cherrypy->pattern) (61.2.0)\n",
      "Building wheels for collected packages: pattern, future, mysqlclient, python-docx, sgmllib3k\n",
      "  Building wheel for pattern (setup.py) ... \u001b[?25ldone\n",
      "\u001b[?25h  Created wheel for pattern: filename=Pattern-3.6-py3-none-any.whl size=22332721 sha256=d7d6a7b48b8c56af64dd66174a653b8bc4c8dab9b1fddae639524715960580d8\n",
      "  Stored in directory: /Users/sunilthapa/Library/Caches/pip/wheels/50/33/f3/ea00b80d50c09f210588bda15ec60bdb38b289b452577cd5c3\n",
      "  Building wheel for future (setup.py) ... \u001b[?25ldone\n",
      "\u001b[?25h  Created wheel for future: filename=future-0.18.3-py3-none-any.whl size=492037 sha256=fd3b6e539e73b5a6474208067f2a6017aee31a4e66c4acadcb70abdfd495d2ad\n",
      "  Stored in directory: /Users/sunilthapa/Library/Caches/pip/wheels/bf/5d/6a/2e53874f7ec4e2bede522385439531fafec8fafe005b5c3d1b\n",
      "  Building wheel for mysqlclient (setup.py) ... \u001b[?25ldone\n",
      "\u001b[?25h  Created wheel for mysqlclient: filename=mysqlclient-2.1.1-cp39-cp39-macosx_11_0_arm64.whl size=55035 sha256=9fd427877971100cda163cef115aa3fa1fb35d886b403fc167218dcba2752abd\n",
      "  Stored in directory: /Users/sunilthapa/Library/Caches/pip/wheels/f3/a5/27/c6312d8008951cfd5511684378a9e057b82006c70e1fea6107\n",
      "  Building wheel for python-docx (setup.py) ... \u001b[?25ldone\n",
      "\u001b[?25h  Created wheel for python-docx: filename=python_docx-0.8.11-py3-none-any.whl size=184507 sha256=2bff38e95c06025dff655125c7d961e93e75678f8ddd52835d2f2755c6d42b75\n",
      "  Stored in directory: /Users/sunilthapa/Library/Caches/pip/wheels/83/8b/7c/09ae60c42c7ba4ed2dddaf2b8b9186cb105255856d6ed3dba5\n",
      "  Building wheel for sgmllib3k (setup.py) ... \u001b[?25ldone\n",
      "\u001b[?25h  Created wheel for sgmllib3k: filename=sgmllib3k-1.0.0-py3-none-any.whl size=6066 sha256=66125324c94d0c5f1f42990cdf5858e9424026c34cefa58c4bd4039096e14899\n",
      "  Stored in directory: /Users/sunilthapa/Library/Caches/pip/wheels/65/7a/a7/78c287f64e401255dff4c13fdbc672fed5efbfd21c530114e1\n",
      "Successfully built pattern future mysqlclient python-docx sgmllib3k\n",
      "Installing collected packages: more-itertools, jaraco.functools, jaraco.context, inflect, autocommand, tempora, jaraco.text, jaraco.classes, zc.lockfile, sgmllib3k, portend, jaraco.collections, cheroot, python-docx, pdfminer.six, mysqlclient, future, feedparser, cherrypy, backports.csv, pattern\n",
      "Successfully installed autocommand-2.2.2 backports.csv-1.0.7 cheroot-9.0.0 cherrypy-18.8.0 feedparser-6.0.10 future-0.18.3 inflect-6.0.2 jaraco.classes-3.2.3 jaraco.collections-3.8.0 jaraco.context-4.3.0 jaraco.functools-3.5.2 jaraco.text-3.11.1 more-itertools-9.0.0 mysqlclient-2.1.1 pattern-3.6 pdfminer.six-20221105 portend-3.1.0 python-docx-0.8.11 sgmllib3k-1.0.0 tempora-5.2.1 zc.lockfile-2.0\n"
     ]
    }
   ],
   "source": [
    "!pip install pattern"
   ]
  },
  {
   "cell_type": "code",
   "execution_count": 81,
   "metadata": {},
   "outputs": [
    {
     "name": "stdout",
     "output_type": "stream",
     "text": [
      "[('message', 0.6216216216216216), ('massage', 0.3783783783783784)]\n",
      "[('service', 0.9253112033195021), ('survive', 0.07468879668049792)]\n",
      "[('the', 0.8653201565642368), ('he', 0.13408515883485067), ('ate', 0.00022706139307570876), ('hate', 0.0002162489457863893), ('hue', 0.00012974936747183358), ('te', 1.0812447289319465e-05), ('htm', 1.0812447289319465e-05)]\n",
      "[('clear', 0.4251824817518248), ('chair', 0.24635036496350365), ('canal', 0.13138686131386862), ('clair', 0.04927007299270073), ('makar', 0.03467153284671533), ('cigar', 0.02737226277372263), ('caesar', 0.01824817518248175), ('car', 0.012773722627737226), ('czar', 0.010948905109489052), ('bazaar', 0.009124087591240875), ('cava', 0.005474452554744526), ('afar', 0.005474452554744526), ('clara', 0.0036496350364963502), ('cedar', 0.0036496350364963502), ('cabal', 0.0036496350364963502), ('saar', 0.0018248175182481751), ('cavae', 0.0018248175182481751), ('cater', 0.0018248175182481751), ('carer', 0.0018248175182481751), ('caper', 0.0018248175182481751), ('ajar', 0.0018248175182481751), ('agar', 0.0018248175182481751)]\n",
      "[('caaaaar', 0.0)]\n"
     ]
    }
   ],
   "source": [
    "from pattern.en import suggest\n",
    "print(suggest('mussage'))\n",
    "print(suggest('survice'))\n",
    "print(suggest('hte'))\n",
    "print(suggest('caaar'))\n",
    "print(suggest('caaaaar'))"
   ]
  },
  {
   "cell_type": "code",
   "execution_count": null,
   "metadata": {},
   "outputs": [],
   "source": []
  }
 ],
 "metadata": {
  "kernelspec": {
   "display_name": "base",
   "language": "python",
   "name": "python3"
  },
  "language_info": {
   "codemirror_mode": {
    "name": "ipython",
    "version": 3
   },
   "file_extension": ".py",
   "mimetype": "text/x-python",
   "name": "python",
   "nbconvert_exporter": "python",
   "pygments_lexer": "ipython3",
   "version": "3.9.12"
  },
  "orig_nbformat": 4,
  "vscode": {
   "interpreter": {
    "hash": "47d7a3528df19f6d7d5b443030394cb1b3b5540a28bb20dc453d994d1e3e4878"
   }
  }
 },
 "nbformat": 4,
 "nbformat_minor": 2
}
