{
 "cells": [
  {
   "cell_type": "code",
   "execution_count": 1,
   "metadata": {},
   "outputs": [],
   "source": [
    "import nltk\n",
    "from nltk.corpus import movie_reviews"
   ]
  },
  {
   "cell_type": "code",
   "execution_count": 2,
   "metadata": {},
   "outputs": [
    {
     "name": "stderr",
     "output_type": "stream",
     "text": [
      "[nltk_data] Downloading package movie_reviews to\n",
      "[nltk_data]     /Users/sunilthapa/nltk_data...\n",
      "[nltk_data]   Package movie_reviews is already up-to-date!\n"
     ]
    },
    {
     "data": {
      "text/plain": [
       "True"
      ]
     },
     "execution_count": 2,
     "metadata": {},
     "output_type": "execute_result"
    }
   ],
   "source": [
    "nltk.download('movie_reviews')"
   ]
  },
  {
   "cell_type": "code",
   "execution_count": 7,
   "metadata": {},
   "outputs": [
    {
     "data": {
      "text/plain": [
       "1583820"
      ]
     },
     "execution_count": 7,
     "metadata": {},
     "output_type": "execute_result"
    }
   ],
   "source": [
    "len(movie_reviews.words())"
   ]
  },
  {
   "cell_type": "code",
   "execution_count": 8,
   "metadata": {},
   "outputs": [
    {
     "data": {
      "text/plain": [
       "['plot', ':', 'two', 'teen', 'couples', 'go', 'to', ...]"
      ]
     },
     "execution_count": 8,
     "metadata": {},
     "output_type": "execute_result"
    }
   ],
   "source": [
    "movie_reviews.words()"
   ]
  },
  {
   "cell_type": "code",
   "execution_count": 9,
   "metadata": {},
   "outputs": [
    {
     "data": {
      "text/plain": [
       "['neg', 'pos']"
      ]
     },
     "execution_count": 9,
     "metadata": {},
     "output_type": "execute_result"
    }
   ],
   "source": [
    "movie_reviews.categories()"
   ]
  },
  {
   "cell_type": "code",
   "execution_count": 10,
   "metadata": {},
   "outputs": [
    {
     "data": {
      "text/plain": [
       "['neg/cv000_29416.txt',\n",
       " 'neg/cv001_19502.txt',\n",
       " 'neg/cv002_17424.txt',\n",
       " 'neg/cv003_12683.txt',\n",
       " 'neg/cv004_12641.txt']"
      ]
     },
     "execution_count": 10,
     "metadata": {},
     "output_type": "execute_result"
    }
   ],
   "source": [
    "movie_reviews.fileids()[:5]"
   ]
  },
  {
   "cell_type": "code",
   "execution_count": 11,
   "metadata": {},
   "outputs": [],
   "source": [
    "text = \" \".join(movie_reviews.words())\n",
    "import string\n",
    "text_filtered = text.translate(str.maketrans('', '', string.punctuation))"
   ]
  },
  {
   "cell_type": "code",
   "execution_count": 14,
   "metadata": {},
   "outputs": [
    {
     "data": {
      "text/plain": [
       "'plot : two teen couples go to a church party , drink and then drive . they get into an accident . one of the guys dies , but his girlfriend continues to see him in her life , and has nightmares . what \\' s the deal ? watch the movie and \" sorta \" find out . . . critique : a mind - fuck movie for the teen generation that touches on a very cool idea , but presents it in a very bad package . which is what makes this review an even harder one to write , since i generally applaud films which attempt to break the mold , mess with your head and such ( lost highway & memento ) , but there are good and bad ways of making all types of films , and these folks just didn \\' t snag this one correctly . they seem to have taken this pretty neat concept , but executed it terribly . so what are the problems with the movie ? well , its main problem is that it \\' s simply too jumbled . it starts off \" normal \" but then downshifts into this \" fantasy \" world in which you , as an audience member , have no idea'"
      ]
     },
     "execution_count": 14,
     "metadata": {},
     "output_type": "execute_result"
    }
   ],
   "source": [
    "text[:1000]"
   ]
  },
  {
   "cell_type": "code",
   "execution_count": 15,
   "metadata": {},
   "outputs": [
    {
     "data": {
      "text/plain": [
       "'plot  two teen couples go to a church party  drink and then drive  they get into an accident  one of the guys dies  but his girlfriend continues to see him in her life  and has nightmares  what  s the deal  watch the movie and  sorta  find out    critique  a mind  fuck movie for the teen generation that touches on a very cool idea  but presents it in a very bad package  which is what makes this review an even harder one to write  since i generally applaud films which attempt to break the mold  mess with your head and such  lost highway  memento   but there are good and bad ways of making all types of films  and these folks just didn  t snag this one correctly  they seem to have taken this pretty neat concept  but executed it terribly  so what are the problems with the movie  well  its main problem is that it  s simply too jumbled  it starts off  normal  but then downshifts into this  fantasy  world in which you  as an audience member  have no idea what  s going on  there are dreams  th'"
      ]
     },
     "execution_count": 15,
     "metadata": {},
     "output_type": "execute_result"
    }
   ],
   "source": [
    "text_filtered[:1000]"
   ]
  },
  {
   "cell_type": "code",
   "execution_count": 17,
   "metadata": {},
   "outputs": [],
   "source": [
    "from nltk import word_tokenize\n",
    "from nltk.corpus import stopwords\n",
    "stopwords = stopwords.words('english')\n",
    "tokens = word_tokenize(text_filtered)\n",
    "word_filtered = [w.lower() for w in tokens if w not in stopwords]\n"
   ]
  },
  {
   "cell_type": "code",
   "execution_count": 27,
   "metadata": {},
   "outputs": [
    {
     "name": "stdout",
     "output_type": "stream",
     "text": [
      "two\n"
     ]
    }
   ],
   "source": [
    "print(word_filtered[1])"
   ]
  },
  {
   "cell_type": "code",
   "execution_count": 20,
   "metadata": {},
   "outputs": [],
   "source": [
    "counter_dict = nltk.FreqDist(word_filtered)"
   ]
  },
  {
   "cell_type": "code",
   "execution_count": 21,
   "metadata": {},
   "outputs": [
    {
     "name": "stdout",
     "output_type": "stream",
     "text": [
      "[('film', 9519), ('one', 5853), ('movie', 5774), ('like', 3690), ('even', 2565), ('good', 2411), ('time', 2411), ('story', 2170), ('would', 2110), ('much', 2050), ('character', 2020), ('also', 1967), ('get', 1949), ('two', 1912), ('well', 1906)]\n"
     ]
    }
   ],
   "source": [
    "print(counter_dict.most_common(15))"
   ]
  },
  {
   "cell_type": "code",
   "execution_count": 24,
   "metadata": {},
   "outputs": [],
   "source": [
    "docs = [(list(movie_reviews.words(fileid)), category)\n",
    "        for category in movie_reviews.categories()\n",
    "        for fileid in movie_reviews.fileids(category)]"
   ]
  },
  {
   "cell_type": "code",
   "execution_count": 37,
   "metadata": {},
   "outputs": [
    {
     "name": "stdout",
     "output_type": "stream",
     "text": [
      "(['plot', ':', 'two', 'teen', 'couples', 'go', 'to', 'a', 'church', 'party', ',', 'drink', 'and', 'then', 'drive', '.', 'they', 'get', 'into', 'an', 'accident', '.', 'one', 'of', 'the', 'guys', 'dies', ',', 'but', 'his', 'girlfriend', 'continues', 'to', 'see', 'him', 'in', 'her', 'life', ',', 'and', 'has', 'nightmares', '.', 'what', \"'\", 's', 'the', 'deal', '?', 'watch', 'the', 'movie', 'and', '\"', 'sorta', '\"', 'find', 'out', '.', '.', '.', 'critique', ':', 'a', 'mind', '-', 'fuck', 'movie', 'for', 'the', 'teen', 'generation', 'that', 'touches', 'on', 'a', 'very', 'cool', 'idea', ',', 'but', 'presents', 'it', 'in', 'a', 'very', 'bad', 'package', '.', 'which', 'is', 'what', 'makes', 'this', 'review', 'an', 'even', 'harder', 'one', 'to', 'write', ',', 'since', 'i', 'generally', 'applaud', 'films', 'which', 'attempt', 'to', 'break', 'the', 'mold', ',', 'mess', 'with', 'your', 'head', 'and', 'such', '(', 'lost', 'highway', '&', 'memento', ')', ',', 'but', 'there', 'are', 'good', 'and', 'bad', 'ways', 'of', 'making', 'all', 'types', 'of', 'films', ',', 'and', 'these', 'folks', 'just', 'didn', \"'\", 't', 'snag', 'this', 'one', 'correctly', '.', 'they', 'seem', 'to', 'have', 'taken', 'this', 'pretty', 'neat', 'concept', ',', 'but', 'executed', 'it', 'terribly', '.', 'so', 'what', 'are', 'the', 'problems', 'with', 'the', 'movie', '?', 'well', ',', 'its', 'main', 'problem', 'is', 'that', 'it', \"'\", 's', 'simply', 'too', 'jumbled', '.', 'it', 'starts', 'off', '\"', 'normal', '\"', 'but', 'then', 'downshifts', 'into', 'this', '\"', 'fantasy', '\"', 'world', 'in', 'which', 'you', ',', 'as', 'an', 'audience', 'member', ',', 'have', 'no', 'idea', 'what', \"'\", 's', 'going', 'on', '.', 'there', 'are', 'dreams', ',', 'there', 'are', 'characters', 'coming', 'back', 'from', 'the', 'dead', ',', 'there', 'are', 'others', 'who', 'look', 'like', 'the', 'dead', ',', 'there', 'are', 'strange', 'apparitions', ',', 'there', 'are', 'disappearances', ',', 'there', 'are', 'a', 'looooot', 'of', 'chase', 'scenes', ',', 'there', 'are', 'tons', 'of', 'weird', 'things', 'that', 'happen', ',', 'and', 'most', 'of', 'it', 'is', 'simply', 'not', 'explained', '.', 'now', 'i', 'personally', 'don', \"'\", 't', 'mind', 'trying', 'to', 'unravel', 'a', 'film', 'every', 'now', 'and', 'then', ',', 'but', 'when', 'all', 'it', 'does', 'is', 'give', 'me', 'the', 'same', 'clue', 'over', 'and', 'over', 'again', ',', 'i', 'get', 'kind', 'of', 'fed', 'up', 'after', 'a', 'while', ',', 'which', 'is', 'this', 'film', \"'\", 's', 'biggest', 'problem', '.', 'it', \"'\", 's', 'obviously', 'got', 'this', 'big', 'secret', 'to', 'hide', ',', 'but', 'it', 'seems', 'to', 'want', 'to', 'hide', 'it', 'completely', 'until', 'its', 'final', 'five', 'minutes', '.', 'and', 'do', 'they', 'make', 'things', 'entertaining', ',', 'thrilling', 'or', 'even', 'engaging', ',', 'in', 'the', 'meantime', '?', 'not', 'really', '.', 'the', 'sad', 'part', 'is', 'that', 'the', 'arrow', 'and', 'i', 'both', 'dig', 'on', 'flicks', 'like', 'this', ',', 'so', 'we', 'actually', 'figured', 'most', 'of', 'it', 'out', 'by', 'the', 'half', '-', 'way', 'point', ',', 'so', 'all', 'of', 'the', 'strangeness', 'after', 'that', 'did', 'start', 'to', 'make', 'a', 'little', 'bit', 'of', 'sense', ',', 'but', 'it', 'still', 'didn', \"'\", 't', 'the', 'make', 'the', 'film', 'all', 'that', 'more', 'entertaining', '.', 'i', 'guess', 'the', 'bottom', 'line', 'with', 'movies', 'like', 'this', 'is', 'that', 'you', 'should', 'always', 'make', 'sure', 'that', 'the', 'audience', 'is', '\"', 'into', 'it', '\"', 'even', 'before', 'they', 'are', 'given', 'the', 'secret', 'password', 'to', 'enter', 'your', 'world', 'of', 'understanding', '.', 'i', 'mean', ',', 'showing', 'melissa', 'sagemiller', 'running', 'away', 'from', 'visions', 'for', 'about', '20', 'minutes', 'throughout', 'the', 'movie', 'is', 'just', 'plain', 'lazy', '!', '!', 'okay', ',', 'we', 'get', 'it', '.', '.', '.', 'there', 'are', 'people', 'chasing', 'her', 'and', 'we', 'don', \"'\", 't', 'know', 'who', 'they', 'are', '.', 'do', 'we', 'really', 'need', 'to', 'see', 'it', 'over', 'and', 'over', 'again', '?', 'how', 'about', 'giving', 'us', 'different', 'scenes', 'offering', 'further', 'insight', 'into', 'all', 'of', 'the', 'strangeness', 'going', 'down', 'in', 'the', 'movie', '?', 'apparently', ',', 'the', 'studio', 'took', 'this', 'film', 'away', 'from', 'its', 'director', 'and', 'chopped', 'it', 'up', 'themselves', ',', 'and', 'it', 'shows', '.', 'there', 'might', \"'\", 've', 'been', 'a', 'pretty', 'decent', 'teen', 'mind', '-', 'fuck', 'movie', 'in', 'here', 'somewhere', ',', 'but', 'i', 'guess', '\"', 'the', 'suits', '\"', 'decided', 'that', 'turning', 'it', 'into', 'a', 'music', 'video', 'with', 'little', 'edge', ',', 'would', 'make', 'more', 'sense', '.', 'the', 'actors', 'are', 'pretty', 'good', 'for', 'the', 'most', 'part', ',', 'although', 'wes', 'bentley', 'just', 'seemed', 'to', 'be', 'playing', 'the', 'exact', 'same', 'character', 'that', 'he', 'did', 'in', 'american', 'beauty', ',', 'only', 'in', 'a', 'new', 'neighborhood', '.', 'but', 'my', 'biggest', 'kudos', 'go', 'out', 'to', 'sagemiller', ',', 'who', 'holds', 'her', 'own', 'throughout', 'the', 'entire', 'film', ',', 'and', 'actually', 'has', 'you', 'feeling', 'her', 'character', \"'\", 's', 'unraveling', '.', 'overall', ',', 'the', 'film', 'doesn', \"'\", 't', 'stick', 'because', 'it', 'doesn', \"'\", 't', 'entertain', ',', 'it', \"'\", 's', 'confusing', ',', 'it', 'rarely', 'excites', 'and', 'it', 'feels', 'pretty', 'redundant', 'for', 'most', 'of', 'its', 'runtime', ',', 'despite', 'a', 'pretty', 'cool', 'ending', 'and', 'explanation', 'to', 'all', 'of', 'the', 'craziness', 'that', 'came', 'before', 'it', '.', 'oh', ',', 'and', 'by', 'the', 'way', ',', 'this', 'is', 'not', 'a', 'horror', 'or', 'teen', 'slasher', 'flick', '.', '.', '.', 'it', \"'\", 's', 'just', 'packaged', 'to', 'look', 'that', 'way', 'because', 'someone', 'is', 'apparently', 'assuming', 'that', 'the', 'genre', 'is', 'still', 'hot', 'with', 'the', 'kids', '.', 'it', 'also', 'wrapped', 'production', 'two', 'years', 'ago', 'and', 'has', 'been', 'sitting', 'on', 'the', 'shelves', 'ever', 'since', '.', 'whatever', '.', '.', '.', 'skip', 'it', '!', 'where', \"'\", 's', 'joblo', 'coming', 'from', '?', 'a', 'nightmare', 'of', 'elm', 'street', '3', '(', '7', '/', '10', ')', '-', 'blair', 'witch', '2', '(', '7', '/', '10', ')', '-', 'the', 'crow', '(', '9', '/', '10', ')', '-', 'the', 'crow', ':', 'salvation', '(', '4', '/', '10', ')', '-', 'lost', 'highway', '(', '10', '/', '10', ')', '-', 'memento', '(', '10', '/', '10', ')', '-', 'the', 'others', '(', '9', '/', '10', ')', '-', 'stir', 'of', 'echoes', '(', '8', '/', '10', ')'], 'neg')\n"
     ]
    }
   ],
   "source": [
    "print(docs[0])"
   ]
  },
  {
   "cell_type": "code",
   "execution_count": 33,
   "metadata": {},
   "outputs": [],
   "source": [
    "word_features = [w[0] for w in counter_dict.most_common(3000)]"
   ]
  },
  {
   "cell_type": "code",
   "execution_count": 34,
   "metadata": {},
   "outputs": [
    {
     "data": {
      "text/plain": [
       "['film', 'one', 'movie', 'like']"
      ]
     },
     "execution_count": 34,
     "metadata": {},
     "output_type": "execute_result"
    }
   ],
   "source": [
    "[w[0] for w in counter_dict.most_common(3000) if w[1] > 3000]"
   ]
  },
  {
   "cell_type": "code",
   "execution_count": 32,
   "metadata": {},
   "outputs": [
    {
     "data": {
      "text/plain": [
       "3000"
      ]
     },
     "execution_count": 32,
     "metadata": {},
     "output_type": "execute_result"
    }
   ],
   "source": [
    "len(word_features)"
   ]
  },
  {
   "cell_type": "code",
   "execution_count": 31,
   "metadata": {},
   "outputs": [],
   "source": [
    "def search_features(doc):\n",
    "    words = set(doc)\n",
    "    features = {}\n",
    "    for w in word_features:\n",
    "        features[w] = (w in words)\n",
    "    return features"
   ]
  },
  {
   "cell_type": "code",
   "execution_count": 38,
   "metadata": {},
   "outputs": [
    {
     "name": "stdout",
     "output_type": "stream",
     "text": [
      "{'film': True, 'one': True, 'movie': True, 'like': True, 'even': True, 'good': True, 'time': False, 'story': False, 'would': True, 'much': False, 'character': True, 'also': True, 'get': True, 'two': True, 'well': True, 'characters': True, 'first': False, 'see': True, 'way': True, 'make': True, 'life': True, 'really': True, 'films': True, 'plot': True, 'little': True, 'people': True, 'could': False, 'scene': False, 'bad': True, 'man': False, 'never': False, 'best': False, 'new': True, 'scenes': True, 'many': False, 'director': True, 'know': True, 'movies': True, 'action': False, 'great': False, 'another': False, 'love': False, 'go': True, 'made': False, 'us': True, 'big': True, 'end': False, 'something': False, 'back': True, 'still': True, 'world': True, 'seems': True, 'work': False, 'makes': True, 'however': False, 'every': True, 'though': False, 'better': False, 'real': False, 'audience': True, 'enough': False, 'seen': False, 'take': False, 'around': False, 'going': True, 'year': False, 'performance': False, 'role': False, 'old': False, 'gets': False, 'may': False, 'things': True, 'think': False, 'last': False, 'years': True, 'comedy': False, 'funny': False, 'actually': True, 'long': False, 'look': True, 'almost': False, 'thing': False, 'fact': False, 'nothing': False, 'say': False, 'john': False, 'right': False, 'although': True, 'played': False, 'find': True, 'come': False, 'script': False, 'ever': True, 'cast': False, 'since': True, 'star': False, 'plays': False, 'young': False, 'show': False, 'comes': False, 'part': True, 'original': False, 'actors': True, 'screen': False, 'without': False, 'acting': False, 'three': False, 'day': False, 'point': True, 'lot': False, 'least': False, 'takes': False, 'guy': False, 'quite': False, 'away': True, 'family': False, 'effects': False, 'course': False, 'goes': False, 'minutes': True, 'interesting': False, 'might': True, 'far': False, 'high': False, 'rather': False, 'must': False, 'anything': False, 'place': False, 'set': False, 'yet': False, 'watch': True, 'making': True, 'wife': False, 'hard': False, 'always': True, 'fun': False, 'seem': True, 'special': False, 'bit': True, 'times': False, 'trying': True, 'hollywood': False, 'instead': False, 'give': True, 'want': True, 'picture': False, 'kind': True, 'american': True, 'job': False, 'sense': True, 'woman': False, 'home': False, 'series': False, 'actor': False, 'probably': False, 'help': False, 'half': True, 'men': False, 'along': False, 'everything': False, 'pretty': True, 'becomes': False, 'sure': True, 'black': False, 'together': False, 'dialogue': False, 'money': False, 'become': False, 'gives': False, 'given': True, 'looking': False, 'whole': False, 'watching': False, 'father': False, 'got': True, 'feel': False, 'everyone': False, 'music': True, 'wants': False, 'sex': False, 'less': False, 'done': False, 'horror': True, 'death': False, 'perhaps': False, 'city': False, 'next': False, 'especially': False, 'play': False, 'mind': True, 'girl': False, '10': True, 'moments': False, 'looks': False, 'completely': True, '2': True, 'reason': False, 'mother': False, 'whose': False, 'line': True, 'night': False, 'human': False, 'rest': False, 'performances': False, 'different': True, 'evil': False, 'small': False, 'james': False, 'simply': True, 'couple': False, 'put': False, 'let': False, 'anyone': False, 'ending': True, 'case': False, 'dead': True, 'several': False, 'michael': False, 'left': False, 'thought': False, 'school': False, 'shows': True, 'humor': False, 'true': False, 'lost': True, 'written': False, 'friend': False, 'entire': True, 'getting': False, 'town': False, 'turns': False, 'soon': False, 'someone': True, 'second': False, 'main': True, 'stars': False, 'found': False, 'use': False, 'problem': True, 'friends': False, 'tv': False, 'top': False, 'name': False, 'begins': False, 'called': False, 'based': False, 'comic': False, 'david': False, 'head': True, 'else': False, 'idea': True, 'either': False, 'wrong': False, 'unfortunately': False, 'later': False, 'final': True, 'hand': False, 'house': False, 'alien': False, 'group': False, 'full': False, 'used': False, 'tries': False, 'often': False, 'war': False, 'sequence': False, 'keep': False, 'turn': False, 'playing': True, 'boy': False, 'live': False, 'behind': False, 'named': False, 'certainly': False, 'believe': False, 'works': False, 'relationship': False, 'face': False, 'hour': False, 'run': False, 'style': False, 'said': False, 'despite': True, 'person': False, 'finally': False, 'shot': False, 'book': False, 'tell': False, 'maybe': False, 'nice': False, 'son': False, 'perfect': False, 'side': False, 'seeing': False, 'able': False, 'children': False, 'finds': False, 'days': False, 'past': False, 'summer': False, 'camera': False, 'including': False, 'mr': False, 'kids': True, 'lives': False, 'directed': False, 'moment': False, 'game': False, 'running': True, 'fight': False, 'supposed': False, 'video': True, 'car': False, 'matter': False, 'kevin': False, 'joe': False, 'lines': False, 'worth': False, 'daughter': False, 'earth': False, 'starts': True, 'need': True, 'entertaining': True, 'white': False, 'start': True, 'writer': False, 'dark': False, 'short': False, 'self': False, 'worst': False, 'nearly': False, 'opening': False, 'try': False, 'upon': False, 'care': False, 'early': False, 'violence': False, 'throughout': True, 'team': False, 'beautiful': False, 'production': True, 'example': False, 'exactly': False, 'title': False, 'jack': False, 'review': True, 'major': False, 'drama': False, 'problems': True, 'sequences': False, 'obvious': False, 'version': False, 'screenplay': False, 'known': False, 'killer': False, 'robert': False, 'disney': False, 'already': False, 'close': False, 'classic': False, 'others': True, 'hit': False, 'kill': False, 'deep': False, 'five': True, 'order': False, 'heart': False, 'act': False, 'simple': False, 'fine': False, 'roles': False, 'four': False, 'jackie': False, 'direction': False, 'eyes': False, 'question': False, 'sort': False, 'sometimes': False, 'knows': False, 'women': False, 'supporting': False, 'coming': True, 'voice': False, 'truly': False, 'save': False, 'jokes': False, 'computer': False, 'child': False, 'boring': False, 'tom': False, 'level': False, '1': False, 'scream': False, 'body': False, 'guys': True, 'genre': True, 'brother': False, 'strong': False, 'stop': False, 'room': False, 'space': False, 'lee': False, 'ends': False, 'beginning': False, 'york': False, 'ship': False, 'attempt': True, 'thriller': False, 'peter': False, 'husband': False, 'hope': False, 'fiction': False, 'happens': False, 'hero': False, 'novel': False, 'note': False, 'king': False, 'yes': False, 'says': False, 'dog': False, 'tells': False, 'quickly': False, 'romantic': False, 'oscar': False, 'stupid': False, 'possible': False, 'saw': False, 'lead': False, 'murder': False, 'career': False, 'extremely': False, 'manages': False, 'god': False, 'mostly': False, 'wonder': False, 'particularly': False, 'future': False, 'fans': False, 'sound': False, 'worse': False, 'piece': False, 'involving': False, 'de': False, 'appears': False, 'planet': False, 'paul': False, 'involved': False, 'mean': True, 'none': False, 'taking': False, 'hours': False, 'laugh': False, 'police': False, 'sets': False, 'attention': False, 'co': False, 'hell': False, 'eventually': False, 'single': False, 'fall': False, 'falls': False, 'material': False, 'emotional': False, 'power': False, 'late': False, 'lack': False, 'dr': False, 'van': False, 'result': False, 'elements': False, 'experience': False, 'meet': False, 'smith': False, 'science': False, 'bring': False, 'wild': False, 'living': False, 'theater': False, 'interest': False, 'leads': False, 'word': False, 'feature': False, 'battle': False, 'alone': False, 'girls': False, 'obviously': True, 'george': False, 'within': False, 'usually': False, 'enjoy': False, 'guess': True, 'among': False, 'taken': True, 'feeling': True, 'laughs': False, 'aliens': False, 'talk': False, 'chance': False, 'talent': False, '3': True, 'middle': False, 'number': False, 'easy': False, 'happen': True, 'across': False, 'needs': False, 'attempts': False, 'television': False, 'chris': False, 'deal': True, 'poor': False, 'form': False, 'girlfriend': True, 'viewer': False, 'release': False, 'killed': False, 'forced': False, 'whether': False, 'wonderful': False, 'feels': True, 'oh': True, 'tale': False, 'serious': False, 'leave': False, 'expect': False, 'except': False, 'light': False, 'success': False, 'features': False, 'premise': False, 'happy': False, 'words': False, 'important': False, 'meets': False, 'history': False, 'ryan': False, 'giving': True, 'crew': False, 'type': False, 'call': False, 'turned': False, 'released': False, 'parents': False, 'art': False, 'impressive': False, 'mission': False, 'working': False, 'seemed': True, 'score': False, 'told': False, 'america': False, 'recent': False, 'robin': False, 'basically': False, 'entertainment': False, 'surprise': False, 'apparently': True, 'easily': False, 'cool': True, 'stuff': False, 'cop': False, 'change': False, 'williams': False, 'crime': False, 'office': False, 'parts': False, 'somehow': False, 'sequel': False, 'william': False, 'cut': False, 'die': False, 'jones': False, 'credits': False, 'batman': False, 'suspense': False, 'brings': False, 'reality': False, 'events': False, 'local': False, 'talking': False, 'difficult': False, 'using': False, 'went': False, 'writing': False, 'remember': False, 'near': False, 'straight': False, 'hilarious': False, 'ago': True, 'certain': False, 'ben': False, 'red': False, 'kid': False, 'slow': False, 'blood': False, 'mystery': False, 'complete': False, 'popular': False, 'effective': False, 'fast': False, 'flick': True, 'due': False, 'runs': False, 'gone': False, 'return': False, 'presence': False, 'quality': False, 'dramatic': False, 'filmmakers': False, 'age': False, 'brothers': False, 'business': False, 'general': False, 'rock': False, 'sexual': False, 'present': False, 'surprisingly': False, 'anyway': False, 'uses': False, '4': True, 'personal': False, 'figure': False, 'smart': False, 'ways': True, 'decides': False, 'annoying': False, 'begin': False, 'somewhat': False, 'shots': False, 'rich': False, 'minute': False, 'law': False, 'previous': False, 'jim': False, 'successful': False, 'harry': False, 'water': False, 'similar': False, 'absolutely': False, 'motion': False, 'former': False, 'strange': True, 'came': True, 'follow': False, 'read': False, 'project': False, 'million': False, 'secret': True, 'starring': False, 'clear': False, 'familiar': False, 'eye': False, 'romance': False, 'intelligent': False, 'third': False, 'excellent': False, 'amazing': False, 'party': True, 'budget': False, 'actress': False, 'prison': False, 'latest': False, 'means': False, 'company': False, 'towards': False, 'predictable': False, 'powerful': False, 'bob': False, 'beyond': False, 'visual': False, 'leaves': False, 'r': False, 'nature': False, 'following': False, 'villain': False, 'leaving': False, 'wars': False, 'animated': False, 'low': False, 'b': False, 'bill': False, 'sam': False, 'filled': False, 'questions': False, 'cinema': False, 'message': False, 'box': False, 'moving': False, 'country': False, 'usual': False, 'martin': False, 'definitely': False, 'add': False, 'large': False, 'clever': False, 'create': False, 'felt': False, 'stories': False, 'brilliant': False, 'ones': False, 'giant': False, 'situation': False, 'murphy': False, 'break': True, 'opens': False, 'scary': False, 'doubt': False, 'drug': False, 'bunch': False, 'thinking': False, 'solid': False, 'effect': False, 'learn': False, 'move': False, 'force': False, 'potential': False, 'seriously': False, 'follows': False, 'huge': False, 'saying': False, 'class': False, 'plan': False, 'agent': False, 'created': False, 'unlike': False, 'pay': False, 'non': False, 'married': False, 'mark': False, 'sweet': False, 'perfectly': False, 'ex': False, 'realize': False, 'audiences': False, 'took': True, 'decent': True, 'likely': False, 'dream': False, 'view': False, 'scott': False, 'subject': False, 'understand': False, 'happened': False, 'enjoyable': False, 'studio': True, 'immediately': False, 'open': False, 'e': False, 'points': False, 'heard': False, 'viewers': False, 'cameron': False, 'truman': False, 'bruce': False, 'frank': False, 'private': False, 'stay': False, 'fails': False, 'impossible': False, 'cold': False, 'richard': False, 'overall': True, 'merely': False, 'exciting': False, 'mess': True, 'chase': True, 'escape': False, 'free': False, 'ten': False, 'neither': False, 'wanted': False, 'gun': False, 'appear': False, 'carter': False, 'ultimately': False, 'fan': False, 'inside': False, 'favorite': False, 'modern': False, 'l': False, 'wedding': False, 'stone': False, 'trek': False, 'brought': False, 'trouble': False, 'otherwise': False, 'tim': False, '5': False, 'allen': False, 'bond': False, 'society': False, 'liked': False, 'dumb': False, 'musical': False, 'stand': False, 'political': False, 'various': False, 'talented': False, 'particular': False, 'west': False, 'state': False, 'keeps': False, 'english': False, 'silly': False, 'u': False, 'situations': False, 'park': False, 'teen': True, 'rating': False, 'slightly': False, 'steve': False, 'truth': False, 'air': False, 'element': False, 'joke': False, 'spend': False, 'key': False, 'biggest': True, 'members': False, 'effort': False, 'government': False, 'focus': False, 'today': False, 'eddie': False, 'soundtrack': False, 'hands': False, 'earlier': False, 'chan': False, 'purpose': False, 'showing': True, 'memorable': False, 'six': False, 'max': False, 'offers': False, 'rated': False, 'mars': False, 'heavy': False, 'totally': False, 'control': False, 'credit': False, 'fi': False, 'woody': False, 'ideas': False, 'sci': False, 'wait': False, 'sit': False, 'female': False, 'ask': False, 'waste': False, 'terrible': False, 'depth': False, 'simon': False, 'aspect': False, 'list': False, 'mary': False, 'sister': False, 'animation': False, 'entirely': False, 'fear': False, 'steven': False, 'moves': False, 'actual': False, 'army': False, 'british': False, 'constantly': False, 'fire': False, 'convincing': False, 'setting': False, 'gave': False, 'tension': False, 'street': True, '8': True, 'brief': False, 'ridiculous': False, 'cinematography': False, 'typical': False, 'nick': False, 'screenwriter': False, 'ability': False, 'spent': False, 'quick': False, 'violent': False, 'atmosphere': False, 'subtle': False, 'expected': False, 'fairly': False, 'seven': False, 'disaster': False, 'killing': False, 'tone': False, 'master': False, 'highly': False, 'lots': False, 'thinks': False, 'song': False, 'cheap': False, 'suddenly': False, 'background': False, 'club': False, 'willis': False, 'whatever': True, 'sees': False, 'complex': False, 'greatest': False, 'impact': False, 'ii': False, 'beauty': True, 'front': False, 'humans': False, 'indeed': False, 'flat': False, 'grace': False, 'wrote': False, 'amusing': False, 'titanic': False, 'mike': False, 'cute': False, 'dull': False, 'minor': False, 'recently': False, 'hate': False, 'outside': False, 'plenty': False, 'wish': False, 'godzilla': False, 'college': False, 'sounds': False, 'telling': False, 'sight': False, 'double': False, 'cinematic': False, 'queen': False, 'hold': False, 'meanwhile': False, 'awful': False, 'clearly': False, 'theme': False, 'hear': False, 'x': False, 'amount': False, 'baby': False, 'approach': False, 'dreams': True, 'shown': False, 'island': False, 'reasons': False, 'charm': False, 'miss': False, 'longer': False, 'common': False, 'sean': False, 'carry': False, 'believable': False, 'realistic': False, 'chemistry': False, 'possibly': False, 'casting': False, 'somewhere': True, 'carrey': False, 'french': False, 'trailer': False, 'tough': False, 'produced': False, 'imagine': False, 'choice': False, 'ride': False, 'hot': True, 'race': False, 'road': False, 'leader': False, 'thin': False, 'jerry': False, 'slowly': False, 'delivers': False, 'detective': False, 'brown': False, 'jackson': False, 'member': True, 'provide': False, 'president': False, 'puts': False, 'asks': False, 'critics': False, 'appearance': False, 'famous': False, 'okay': True, 'intelligence': False, 'energy': False, 'sent': False, 'spielberg': False, 'development': False, 'etc': False, 'language': False, 'blue': False, 'proves': False, 'vampire': False, 'seemingly': False, 'basic': False, 'caught': False, 'decide': False, 'opportunity': False, 'remains': False, 'incredibly': False, 'images': False, 'band': False, 'j': False, 'writers': False, 'knew': False, 'interested': False, 'considering': False, 'boys': False, 'thanks': False, 'climax': False, 'event': False, 'central': False, 'directing': False, 'conclusion': False, 'leading': False, 'ground': False, 'lies': False, 'forget': False, 'alive': False, 'tarzan': False, 'century': False, 'provides': False, 'trip': False, 'partner': False, 'tarantino': False, 'period': False, 'pace': False, 'worked': False, 'ready': False, 'date': False, 'thus': False, '1998': False, 'terrific': False, 'write': True, 'average': False, 'onto': False, 'songs': False, 'occasionally': False, 'doctor': False, 'stands': False, 'hardly': False, 'monster': False, 'led': False, 'mysterious': False, 'details': False, 'wasted': False, 'apart': False, 'aside': False, 'store': False, 'saving': False, 'billy': False, 'boss': False, 'travolta': False, 'producer': False, 'pull': False, 'consider': False, 'pictures': False, 'becoming': False, 'cage': False, 'loud': False, 'looked': False, 'la': False, 'officer': False, 'twenty': False, 'system': False, 'contains': False, 'julia': False, 'subplot': False, 'missing': False, 'personality': False, 'building': False, 'learns': False, 'hong': False, 'apartment': False, '7': True, 'bizarre': False, 'powers': False, 'flaws': False, 'catch': False, 'lawyer': False, 'shoot': False, 'student': False, 'unique': False, '000': False, 'admit': False, 'concept': True, 'needed': False, 'thrown': False, 'christopher': False, 'laughing': False, 'green': False, 'twists': False, 'matthew': False, 'touch': False, 'waiting': False, 'victim': False, 'cover': False, 'machine': False, 'danny': False, 'mention': False, 'search': False, '1997': False, 'win': False, 'door': False, 'manner': False, 'train': False, 'share': False, 'image': False, 'discovers': False, 'singer': False, 'normal': True, 'cross': False, 'fox': False, 'returns': False, 'adult': False, 'adds': False, 'answer': False, 'adventure': False, 'lame': False, 'male': False, 'odd': False, 'deserves': False, 'gore': False, 'states': False, 'include': False, 'equally': False, 'months': False, 'barely': False, 'directors': False, 'introduced': False, 'fashion': False, 'social': False, '1999': False, 'news': False, 'hair': False, 'nights': False, 'dance': False, 'innocent': False, 'camp': False, 'teacher': False, 'became': False, 'sad': True, 'witch': True, 'includes': False, 'blade': False, 'jason': False, 'julie': False, 'latter': False, 'food': False, 'jennifer': False, 'land': False, 'menace': False, 'rate': False, 'storyline': False, 'contact': False, 'jean': False, 'elizabeth': False, 'fellow': False, 'changes': False, 'henry': False, 'hill': False, 'pulp': False, 'gay': False, 'tried': False, 'surprised': False, 'literally': False, 'walk': False, 'standard': False, '90': False, 'forward': False, 'wise': False, 'enjoyed': False, 'discover': False, 'pop': False, 'anderson': False, 'offer': False, 'recommend': False, 'public': False, 'drive': True, 'c': False, 'toy': False, 'charming': False, 'fair': False, 'chinese': False, 'rescue': False, 'terms': False, 'mouth': False, 'lucas': False, 'accident': True, 'dies': True, 'decided': True, 'edge': True, 'footage': False, 'culture': False, 'weak': False, 'presented': False, 'younger': False, 'douglas': False, 'natural': False, 'born': False, 'generally': True, 'teenage': False, 'older': False, 'horrible': False, 'addition': False, 'sadly': False, 'creates': False, 'disturbing': False, 'roger': False, 'detail': False, 'devil': False, 'debut': False, 'track': False, 'developed': False, 'week': False, 'russell': False, 'attack': False, 'explain': False, 'rarely': True, 'fully': False, 'prove': False, 'exception': False, 'jeff': False, 'twist': False, 'gang': False, 'winning': False, 'jr': False, 'species': False, 'issues': False, 'fresh': False, 'rules': False, 'meaning': False, 'inspired': False, 'heroes': False, 'desperate': False, 'fighting': False, 'filmed': False, 'twice': False, 'faces': False, 'alan': False, 'bright': False, 'ass': False, 'flying': False, 'kong': False, 'rush': False, 'forces': False, 'charles': False, 'numerous': False, 'emotions': False, 'involves': False, 'patrick': False, 'weird': True, 'apparent': False, 'information': False, 'revenge': False, 'jay': False, 'toward': False, 'surprising': False, 'editing': False, 'calls': False, 'lose': False, 'vegas': False, 'stage': False, 'intended': False, 'gags': False, 'opinion': False, 'likes': False, 'crazy': False, 'owner': False, 'places': False, 'pair': False, 'genuine': False, 'epic': False, 'speak': False, 'throw': False, 'appeal': False, 'gibson': False, 'captain': False, 'military': False, '20': True, 'blair': True, 'nowhere': False, 'length': False, 'nicely': False, 'cause': False, 'pass': False, 'episode': False, 'kiss': False, 'arnold': False, 'please': False, 'phone': False, 'filmmaking': False, 'formula': False, 'boyfriend': False, 'talents': False, 'creating': False, 'kelly': False, 'buy': False, 'wide': False, 'fantasy': True, 'mood': False, 'heads': False, 'pathetic': False, 'lacks': False, 'loved': False, 'asked': False, 'mrs': False, 'witty': False, 'shakespeare': False, 'mulan': False, 'generation': True, 'affair': False, 'pieces': False, 'task': False, 'rare': False, 'kept': False, 'cameo': False, 'legend': False, 'fascinating': False, 'ed': False, 'fbi': False, 'burton': False, 'incredible': False, 'accent': False, 'artist': False, 'superior': False, 'na': False, 'academy': False, 'thomas': False, 'spirit': False, 'technical': False, 'confusing': True, 'poorly': False, 'target': False, 'lover': False, 'woo': False, 'mentioned': False, 'theaters': False, 'plane': False, 'confused': False, 'dennis': False, 'rob': False, 'appropriate': False, 'christmas': False, 'considered': False, 'floor': False, 'shame': False, 'soul': False, 'matt': False, 'campbell': False, 'process': False, 'bottom': True, 'sitting': True, 'brain': False, 'magic': False, 'creepy': False, '13': False, 'forever': False, 'dude': False, 'crap': False, 'superb': False, 'speech': False, 'ice': False, 'journey': False, 'masterpiece': False, 'intriguing': False, 'names': False, 'pick': False, 'speaking': False, 'virtually': False, 'award': False, 'worthy': False, 'marriage': False, 'deliver': False, 'cash': False, 'respect': False, 'product': False, 'matrix': False, 'necessary': False, 'suppose': False, 'silent': False, 'pointless': False, 'station': False, 'affleck': False, 'dimensional': False, 'charlie': False, 'allows': False, 'avoid': False, 'meant': False, 'cops': False, 'limited': False, 'attitude': False, 'relationships': False, 'hits': False, 'stephen': False, 'vampires': False, 'spends': False, 'relief': False, 'physical': False, 'count': False, 'reviews': False, 'appreciate': False, 'cliches': False, 'holds': True, 'pure': False, 'plans': False, 'failed': False, 'pain': False, 'impression': False, 'unless': False, 'sub': False, 'total': False, 'creature': False, 'viewing': False, 'loves': False, 'princess': False, 'kate': False, 'rising': False, 'woods': False, 'baldwin': False, 'angry': False, 'drawn': False, 'step': False, 'themes': False, 'satire': False, 'arts': False, 'remake': False, 'wall': False, 'moral': False, 'color': False, 'ray': False, 'stuck': False, 'touching': False, 'wit': False, 'tony': False, 'hanks': False, 'continues': True, 'damn': False, 'nobody': False, 'cartoon': False, 'keeping': False, 'realized': False, 'criminal': False, 'unfunny': False, 'comedic': False, 'martial': False, 'disappointing': False, 'anti': False, 'graphic': False, 'stunning': False, 'actions': False, 'emotion': False, 'urban': False, 'soldiers': False, 'edward': False, 'comedies': False, 'driver': False, 'expectations': False, 'added': False, 'mad': False, 'angels': False, 'shallow': False, 'suspect': False, 'humorous': False, 'phantom': False, 'appealing': False, 'device': False, 'design': False, 'industry': False, 'reach': False, 'fat': False, 'hotel': False, 'blame': False, 'united': False, 'gon': False, 'sign': False, 'portrayal': False, 'rocky': False, 'finale': False, 'grand': False, 'opposite': False, 'match': False, 'damme': False, 'speed': False, 'ok': False, 'loving': False, 'field': False, 'larry': False, 'troopers': False, 'compared': False, 'apes': False, 'rose': False, 'falling': False, 'era': False, 'loses': False, 'adults': False, 'managed': False, 'dad': False, 'therefore': False, 'pg': False, 'results': False, 'guns': False, 'radio': False, 'lady': False, 'manage': False, 'spice': False, 'naked': False, 'started': False, 'intense': False, 'humanity': False, 'wonderfully': False, 'slasher': True, 'bland': False, 'imagination': False, 'walking': False, 'willing': False, 'horse': False, 'rent': False, 'mix': False, 'generated': False, 'g': False, 'utterly': False, 'scientist': False, 'washington': False, 'notice': False, 'players': False, 'teenagers': False, 'moore': False, 'board': False, 'price': False, 'frightening': False, 'tommy': False, 'spectacular': False, 'bored': False, 'jane': False, 'join': False, 'producers': False, 'johnny': False, 'zero': False, 'adaptation': False, 'dollars': False, 'parody': False, 'documentary': False, 'dvd': False, 'wayne': False, 'post': False, 'exist': False, 'matters': False, 'chosen': False, 'mel': False, 'attractive': False, 'plain': True, 'trust': False, 'safe': False, 'reading': False, 'hoping': False, 'protagonist': False, 'feelings': False, 'fate': False, 'finding': False, 'feet': False, 'visuals': False, 'spawn': False, 'compelling': False, 'hall': False, 'sympathetic': False, 'featuring': False, 'difference': False, 'professional': False, 'drugs': False, 'ford': False, 'shooting': False, 'gold': False, 'patch': False, 'build': False, 'boat': False, 'cruise': False, 'honest': False, 'media': False, 'babe': False, 'flicks': True, 'bug': False, 'bringing': False, 'dangerous': False, 'watched': False, 'grant': False, 'smile': False, 'ghost': False, 'plus': False, 'decision': False, 'visually': False, 'allow': False, 'starship': False, 'roberts': False, 'dying': False, 'portrayed': False, 'turning': True, 'believes': False, 'changed': False, 'shock': False, 'destroy': False, '30': False, 'crowd': False, 'broken': False, 'tired': False, 'fail': False, 'south': False, 'died': False, 'cult': False, 'fake': False, 'vincent': False, 'identity': False, 'sexy': False, 'hunt': False, 'jedi': False, 'flynt': False, 'alex': False, 'engaging': True, 'serve': False, 'snake': False, 'yeah': False, 'expecting': False, '100': False, 'decade': False, 'ups': False, 'constant': False, 'current': False, 'survive': False, 'jimmy': False, 'buddy': False, 'send': False, 'brooks': False, 'goofy': False, 'likable': False, 'humour': False, 'technology': False, 'files': False, 'aspects': False, 'presents': True, 'kills': False, 'supposedly': False, 'eight': False, 'sandler': False, 'hospital': False, 'test': False, 'hidden': False, 'brian': False, 'books': False, 'promise': False, 'determined': False, 'professor': False, 'genius': False, 'welcome': False, 'pleasure': False, 'fantastic': False, 'succeeds': False, 'individual': False, 'annie': False, 'mob': False, 'ted': False, 'virus': False, 'content': False, 'gary': False, 'direct': False, 'contrived': False, 'carpenter': False, 'scale': False, 'sick': False, 'nasty': False, 'conflict': False, 'haunting': False, 'filmmaker': False, 'japanese': False, 'helps': False, 'fare': False, 'lucky': False, 'ultimate': False, 'window': False, 'support': False, 'goal': False, 'provided': False, 'winner': False, 'taylor': False, 'faith': False, 'lynch': False, 'fit': False, 'catherine': False, 'ms': False, 'paced': False, 'breaks': False, 'al': False, 'frame': False, 'travel': False, 'badly': False, 'available': False, 'cares': False, 'reeves': False, 'crash': False, 'driving': False, 'press': False, 'seagal': False, 'amy': False, '9': True, 'headed': False, 'instance': False, 'excuse': False, 'offensive': False, 'narrative': False, 'fault': False, 'bus': False, 'f': False, 'extreme': False, 'miller': False, 'guilty': False, 'grows': False, 'overly': False, 'liners': False, 'forgotten': False, 'ahead': False, 'accept': False, 'porn': False, 'directly': False, 'helen': False, 'began': False, 'lord': False, 'folks': True, 'mediocre': False, 'bar': False, 'surface': False, 'super': False, 'failure': False, '6': False, 'acted': False, 'quiet': False, 'laughable': False, 'sheer': False, 'security': False, 'emotionally': False, 'season': False, 'stuart': False, 'jail': False, 'deals': False, 'cheesy': False, 'court': False, 'beach': False, 'austin': False, 'model': False, 'outstanding': False, 'substance': False, 'nudity': False, 'slapstick': False, 'joan': False, 'reveal': False, 'placed': False, 'check': False, 'beast': False, 'hurt': False, 'bloody': False, 'acts': False, 'fame': False, 'meeting': False, 'nuclear': False, '1996': False, 'strength': False, 'center': False, 'funniest': False, 'standing': False, 'damon': False, 'clich': False, 'position': False, 'desire': False, 'driven': False, 'seat': False, 'stock': False, 'wondering': False, 'realizes': False, 'dealing': False, 'taste': False, 'routine': False, 'comparison': False, 'cinematographer': False, 'seconds': False, 'singing': False, 'gangster': False, 'responsible': False, 'football': False, 'remarkable': False, 'hunting': False, 'adams': False, 'fly': False, 'suspects': False, 'treat': False, 'hopes': False, 'heaven': False, 'myers': False, 'struggle': False, 'costumes': False, 'beat': False, 'happening': False, 'skills': False, 'ugly': False, 'figures': False, 'thoroughly': False, 'ill': False, 'surprises': False, 'player': False, 'rival': False, 'guard': False, 'armageddon': False, 'anthony': False, 'strike': False, 'community': False, 'animal': False, 'streets': False, 'hopkins': False, 'ended': False, 'originally': False, 'sarah': False, 'creative': False, 'characterization': False, 'thankfully': False, 'growing': False, 'sharp': False, 'williamson': False, 'eccentric': False, 'explained': True, 'hey': False, 'claire': False, 'steal': False, 'inevitable': False, 'joel': False, 'core': False, 'sorry': False, 'built': False, 'anne': False, 'breaking': False, 'villains': False, 'critic': False, 'lets': False, 'visit': False, 'followed': False, 'serial': False, 'value': False, 'missed': False, 'oliver': False, 'hollow': False, 'sea': False, 'freeman': False, 'animals': False, 'crystal': False, 'sidney': False, 'lacking': False, 'everybody': False, 'students': False, 'continue': False, 'boogie': False, 'extra': False, 'scorsese': False, 'church': True, 'stick': True, 'explanation': True, 'hip': False, 'quest': False, 'mistake': False, 'jump': False, 'fights': False, 'cusack': False, 'included': False, 'draw': False, '15': False, 'games': False, '1995': False, 'judge': False, 'gotten': False, 'sky': False, 'chief': False, 'derek': False, 'thirty': False, 'record': False, 'veteran': False, 'develop': False, 'knowledge': False, 'serves': False, 'arrives': False, 'clooney': False, 'enter': True, 'russian': False, 'obsessed': False, 'vision': False, 'screenwriters': False, 'luck': False, 'holes': False, 'religious': False, 'witness': False, 'flashbacks': False, 'heavily': False, 'frequently': False, 'capable': False, 'pacing': False, 'rise': False, 'mainly': False, 'fill': False, 'barry': False, 'schwarzenegger': False, 'clean': False, 'previously': False, 'grow': False, 'keaton': False, 'empty': False, 'synopsis': False, 'victims': False, 'adam': False, 'bed': False, 'lawrence': False, 'stallone': False, 'hunter': False, 'memory': False, 'suit': False, 'bobby': False, 'tragedy': False, 'saved': False, 'spot': False, 'unexpected': False, 'encounter': False, 'hearted': False, 'bacon': False, 'disappointment': False, 'bigger': False, 'noir': False, 'wan': False, 'nicholson': False, 'evidence': False, 'relatively': False, 'morning': False, 'andrew': False, 'range': False, 'numbers': False, 'walter': False, 'vehicle': False, 'pulled': False, 'describe': False, 'cliched': False, 'efforts': False, 'logic': False, 'verhoeven': False, 'assistant': False, 'existence': False, 'worker': False, 'freedom': False, 'theatre': False, 'wood': False, 'warm': False, 'fish': False, 'ripley': False, 'mental': False, 'angel': False, 'study': False, 'justice': False, 'cliche': False, 'foot': False, 'jonathan': False, 'grown': False, 'unnecessary': False, 'rip': False, 'learned': False, 'skin': False, 'talks': False, 'ball': False, 'eve': False, 'alice': False, 'roll': False, 'weeks': False, 'jon': False, 'courtroom': False, 'positive': False, 'putting': False, 'connection': False, 'london': False, 'contrast': False, 'exact': True, 'fifteen': False, 'eric': False, 'prince': False, 'bound': False, 'traditional': False, 'regular': False, 'niro': False, 'las': False, 'remain': False, 'anna': False, 'moved': False, 'asking': False, 'genuinely': False, 'rain': False, 'path': False, 'aware': False, 'causes': False, 'international': False, 'naturally': False, 'bank': False, 'faced': False, 'elaborate': False, 'shocking': False, 'besides': False, 'trash': False, 'paris': False, 'captured': False, 'concerned': False, 'rule': False, 'held': False, 'claims': False, 'cell': False, 'daniel': False, 'beloved': False, 'pilot': False, 'independence': False, 'ocean': False, 'eat': False, 'punch': False, 'desperately': False, 'reminiscent': False, 'knowing': False, 'greater': False, 'largely': False, 'hundred': False, 'shrek': False, 'flash': False, 'halloween': False, 'occasional': False, 'danger': False, 'thrillers': False, 'essentially': False, 'terror': False, 'whenever': False, 'suggest': False, 'baseball': False, 'blockbuster': False, 'pie': False, 'starting': False, 'satisfying': False, 'allowed': False, 'minds': False, 'neil': False, 'hank': False, 'storm': False, 'disappointed': False, 'jake': False, 'wearing': False, 'explains': False, 'marry': False, 'national': False, 'psychological': False, 'pig': False, 'nomination': False, 'critique': True, 'theatrical': False, 'psycho': False, 'necessarily': False, 'threatening': False, 'fallen': False, 'dogs': False, 'painful': False, 'plots': False, 'sends': False, 'department': False, 'agrees': False, 'league': False, 'covered': False, 'source': False, 'revealed': False, 'historical': False, 'perspective': False, 'patient': False, '17': False, 'arquette': False, 'successfully': False, 'n': False, 'afraid': False, 'mom': False, 'murders': False, 'jar': False, 'suicide': False, 'soldier': False, 'joy': False, 'nightmare': True, 'cuts': False, 'wilson': False, 'nine': False, '80': False, 'drunken': False, 'painfully': False, 'opera': False, 'wrestling': False, 'references': False, 'cars': False, 'bomb': False, 'luke': False, 'pulls': False, 'passion': False, 'sleep': False, 'structure': False, 'agree': False, 'occur': False, 'brad': False, 'chicago': False, 'con': False, 'attacks': False, 'service': False, 'stunts': False, 'bulworth': False, 'murray': False, 'trilogy': False, 'intensity': False, 'tradition': False, 'unfortunate': False, 'seth': False, 'stiller': False, 'suspenseful': False, 'steals': False, 'cat': False, 'investigation': False, 'lovely': False, 'stops': False, 'hanging': False, 'oddly': False, 'choices': False, 'warning': False, 'climactic': False, 'ape': False, 'jungle': False, 'england': False, 'sole': False, 'conspiracy': False, 'surely': False, 'author': False, '50': False, 'program': False, 'broderick': False, 'china': False, 'weapon': False, 'unbelievable': False, 'quaid': False, 'gross': False, 'ensemble': False, 'dinner': False, 'dirty': False, 'soft': False, 'loose': False, 'memories': False, 'harris': False, 'laughter': False, 'nevertheless': False, 'suffering': False, 'initially': False, '54': False, 'narration': False, 'terribly': True, 'stolen': False, 'dragon': False, 'answers': False, 'wealthy': False, 'originality': False, 'reaction': False, 'foreign': False, '2001': False, 'significant': False, 'donnell': False, 'fu': False, 'reminded': False, 'subplots': False, 'risk': False, 'creatures': False, '12': False, 'african': False, 'convinced': False, 'lewis': False, 'capture': False, 'makers': False, 'requires': False, 'friendship': False, 'spy': False, 'met': False, 'uninteresting': False, 'christian': False, 'deadly': False, 'critical': False, 'behavior': False, 'slave': False, 'thrills': False, 'duvall': False, 'segment': False, 'monkey': False, 'bitter': False, 'status': False, 'refuses': False, 'melvin': False, 'nbsp': False, 'understanding': True, 'described': False, 'voiced': False, 'accidentally': False, 'endless': False, 'showed': False, 'schumacher': False, 'hired': False, 'gag': False, 'terry': False, 'walks': False, 'li': False, 'complicated': False, 'weekend': False, 'sequels': False, 'excitement': False, 'commercial': False, 'performers': False, 'rick': False, 'unlikely': False, 'bag': False, 'keanu': False, 'tight': False, 'terminator': False, 'desert': False, 'german': False, 'wears': False, 'effectively': False, 'flaw': False, 'meg': False, 'thoughts': False, 'scare': False, 'prime': False, 'todd': False, 'suffers': False, 'greg': False, 'p': False, 'shop': False, 'discovered': False, 'bear': False, 'heroine': False, 'sudden': False, 'killers': False, 'halfway': False, 'strikes': False, 'root': False, 'handled': False, 'handle': False, 'explosions': False, 'mickey': False, 'extraordinary': False, 'sports': False, 'collection': False, 'photography': False, 'speaks': False, 'issue': False, 'mid': False, 'proceedings': False, 'ethan': False, 'delightful': False, 'laughed': False, 'vacation': False, 'pitt': False, 'lebowski': False, 'lovers': False, 'quirky': False, 'texas': False, 'flesh': False, 'dean': False, 'crisis': False, 'touches': True, 'crow': True, 'dollar': False, 'attempting': False, 'murdered': False, '0': False, 'fugitive': False, 'values': False, 'loser': False, 'unable': False, 'drunk': False, 'kung': False, 'western': False, 'childhood': False, 'anywhere': False, 'gift': False, 'destroyed': False, 'chicken': False, 'tense': False, 'embarrassing': False, 'selling': False, 'sing': False, 'tragic': False, 'irritating': False, 'wind': False, 'barrymore': False, 'extended': False, 'dozen': False, 'enemy': False, 'frankly': False, 'drop': False, 'norton': False, 'hype': False, 'unusual': False, 'ordinary': False, 'finest': False, 'losing': False, 'ian': False, 'phil': False, 'cole': False, 'goodman': False, 'insight': True, 'promising': False, 'loss': False, 'weapons': False, 'twisted': False, 'deeper': False, 'nonetheless': False, 'advice': False, 'lake': False, 'campaign': False, 'lonely': False, 'karen': False, 'unknown': False, 'knock': False, 'blow': False, 'dancing': False, '80s': False, 'magazine': False, 'instinct': False, 'italian': False, 'throwing': False, 'costume': False, 'friendly': False, 'fairy': False, 'voices': False, 'helped': False, 'lived': False, 'universe': False, 'entertain': True, 'adventures': False, 'table': False, 'saturday': False, 'signs': False, 'comments': False, 'required': False, 'flashback': False, 'haunted': False, 'stretch': False, 'albeit': False, 'bugs': False, 'paid': False, 'soap': False, 'notes': False, 'sell': False, 'multiple': False, 'practically': False, 'obligatory': False, 'larger': False, 'display': False, 'basis': False, 'hitchcock': False, 'mtv': False, 'sidekick': False, 'angle': False, 'jobs': False, 'circumstances': False, 'initial': False, 'bride': False, 'struggling': False, 'related': False, 'exercise': False, 'commentary': False, 'combination': False, 'toys': False, 'closer': False, 'hole': False, 'experiences': False, 'corner': False, 'trio': False, 'cowboy': False, 'politics': False, 'jurassic': False, 'kick': False, 'revolves': False, 'trapped': False, 'recall': False, 'darkness': False, 'digital': False, 'recognize': False, 'romeo': False, 'reveals': False, 'ironic': False, 'picks': False, 'fifth': False, 'blonde': False, 'encounters': False, 'aforementioned': False, 'inventive': False, 'granted': False, 'remaining': False, 'storytelling': False, 'howard': False, 'ad': False, 'copy': False, 'absurd': False, 'handful': False, 'pre': False, 'erotic': False, 'drew': False, 'reporter': False, 'destination': False, 'paper': False, 'dry': False, 'trailers': False, 'priest': False, 'holding': False, 'hint': False, 'medical': False, 'horizon': False, 'blues': False, 'sitcom': False, 'ellie': False, 'buddies': False, 'importantly': False, 'provoking': False, 'challenge': False, 'introduces': False, 'hoffman': False, 'spacey': False, 'clothes': False, 'mouse': False, 'colorful': False, 'magical': False, 'replaced': False, 'size': False, 'packed': False, 'cox': False, 'grade': False, 'bore': False, 'outrageous': False, 'assume': False, 'studios': False, 'bone': False, 'michelle': False, 'deeply': False, 'metal': False, 'sixth': False, 'artistic': False, 'develops': False, 'andy': False, 'mafia': False, 'colors': False, 'golden': False, 'designed': False, 'hopefully': False, 'featured': False, 'market': False, 'lloyd': False, 'kenneth': False, 'wear': False, 'truck': False, 'generic': False, 'terrorist': False, 'beautifully': False, 'costner': False, 'judd': False, 'reese': False, 'connor': False, 'sir': False, 'wes': True, 'cgi': False, 'chases': False, 'remotely': False, 'midnight': False, 'homage': False, 'conventional': False, 'depressing': False, 'higher': False, 'hearing': False, 'glenn': False, 'tiny': False, 'sandra': False, 'perform': False, 'scheme': False, 'eating': False, 'threat': False, 'alas': False, 'drives': False, 'inept': False, 'doors': False, 'universal': False, 'multi': False, 'prinze': False, 'gorgeous': False, 'par': False, 'location': False, 'coach': False, 'lisa': False, 'screening': False, 'notable': False, 'dressed': False, 'morgan': False, 'research': False, 'scenery': False, 'abandoned': False, 'bleak': False, 'overcome': False, 'penn': False, 'suggests': False, 'primary': False, 'dillon': False, 'directorial': False, 'bodies': False, 'weight': False, 'investigate': False, 'chain': False, 'rolling': False, 'blown': False, 'proof': False, 'contemporary': False, 'jackal': False, 'steps': False, '2000': False, 'october': False, 'besson': False, 'treatment': False, 'religion': False, 'maggie': False, 'flawed': False, 'round': False, 'cable': False, 'capsule': False, 'pregnant': False, 'birth': False, 'wonders': False, 'semi': False, 'countless': False, 'jet': False, 'gene': False, 'theory': False, 'bits': False, 'graham': False, 'clueless': False, 'whatsoever': False, 'youth': False, 'cry': False, 'wong': False, 'executive': False, 'cutting': False, 'statement': False, 'occurs': False, 'sheriff': False, 'screaming': False, 'river': False, 'brutal': False, 'bother': False, 'forth': False, 'obnoxious': False, 'pleasant': False, 'foster': False, 'hughes': False, 'silver': False, 'depp': False, 'laura': False, 'americans': False, 'ancient': False, 'focuses': False, 'bang': False, 'brilliantly': False, 'troubled': False, 'term': False, 'dan': False, 'parker': False, 'notch': False, 'ordell': False, 'types': True, 'wooden': False, 'warner': False, 'disbelief': False, 'strip': False, 'families': False, 'trite': False, 'convince': False, 'hang': False, 'fortune': False, 'natasha': False, 'fortunately': False, 'kilmer': False, 'mine': False, 'appearances': False, 'deserve': False, 'beating': False, 'conversation': False, 'qualities': False, 'projects': False, 'according': False, 'dialog': False, 'carries': False, 'sonny': False, 'stereotypes': False, 'episodes': False, 'protagonists': False, 'agents': False, 'armed': False, 'mitchell': False, 'trick': False, 'accomplished': False, 'davis': False, 'beatty': False, 'mere': False, 'destruction': False, 'suffer': False, 'dick': False, 'trade': False, 'tucker': False, 'arm': False, 'luckily': False, 'crafted': False, 'facts': False, 'kim': False, 'johnson': False, 'disco': False, 'stewart': False, 'likeable': False, 'tribe': False, 'mature': False, 'mile': False, 'progresses': False, 'favor': False, 'exchange': False, 'spoken': False, 'sake': False, 'roth': False, 'stereotypical': False, 'irish': False, 'festival': False, 'buzz': False, 'mighty': False, 'passed': False, 'operation': False, 'boxing': False, 'defense': False, 'thief': False, 'harrelson': False, '1993': False, 'gratuitous': False, '40': False, 'innocence': False, 'expensive': False, 'fiennes': False, 'intellectual': False, 'lucy': False, 'mainstream': False, 'decades': False, 'emma': False, 'false': False, 'bridge': False, 'base': False, 'appeared': False, 'setup': False, 'lie': False, 'delight': False, 'stylish': False, 'cruel': False, 'refreshing': False, 'abilities': False, 'corny': False, 'breasts': False, 'baker': False, 'block': False, 'neeson': False, 'actresses': False, 'raise': False, 'airplane': False, 'dropped': False, 'established': False, 'fred': False, 'succeed': False, 'degree': False, 'vs': False, 'pacino': False, 'dicaprio': False, 'executed': True, 'thrilling': True, 'bastard': False, 'spending': False, 'providing': False, 'training': False, 'picked': False, 'awkward': False, 'realism': False, 'adapted': False, 'jan': False, 'charge': False, 'inner': False, 'north': False, 'command': False, 'increasingly': False, 'tyler': False, 'fits': False, 'trial': False, 'warrior': False, 'honor': False, 'holiday': False, 'arms': False, 'ron': False, 'mixed': False, 'kubrick': False, 'tedious': False, 'workers': False, 'perfection': False, 'amanda': False, 'esque': False, 'cuba': False, 'tears': False, 'execution': False, 'dress': False, 'francis': False, 'legendary': False, 'fincher': False, 'neve': False, 'miles': False, 'scientists': False, 'sat': False, 'susan': False, 'persona': False, 'intentions': False, 'paltrow': False, 'smoking': False, 'diamond': False, 'stealing': False, 'prisoners': False, 'spoilers': False, 'jolie': False, 'branagh': False, 'mask': False, 'spiritual': False, 'equal': False, 'raised': False, 'clue': True, 'suits': True, 'skip': True, 'robot': False, 'arthur': False, 'forest': False, 'entry': False, 'viewed': False, 'independent': False, 'expert': False, 'ghosts': False, 'reference': False, 'remembered': False, 'scared': False, 'classics': False, 'henstridge': False, 'alicia': False, 'shut': False, 'jordan': False, 'notably': False, 'designer': False, 'endearing': False, 'tend': False, 'rape': False, 'escapes': False, 'ring': False, 'notion': False, 'bet': False, 'variety': False, 'glory': False, 'consistently': False, 'area': False, 'random': False, 'expression': False, 'editor': False, 'sun': False, 'com': False, 'drinking': False, 'letting': False, 'los': False, 'angeles': False, 'prisoner': False, 'deserved': False, 'strangely': False, 'spots': False, 'charisma': False, 'makeup': False, 'carefully': False, 'survivors': False, 'mail': False, 'via': False, 'anymore': False, 'gordon': False, 'sorts': False, 'tracks': False, 'factor': False, 'gory': False, 'combined': False, 'flubber': False, 'sympathy': False, 'achievement': False, 'robocop': False, 'virtual': False, 'installment': False, 'movement': False, 'personally': True, 'sword': False, 'blind': False, 'produce': False, 'demands': False, 'accused': False, 'anybody': False, 'exists': False, 'stronger': False, 'timing': False, 'handsome': False, 'prior': False, 'distracting': False, 'idiotic': False, 'neighbor': False, 'fantasies': False, 'teens': False, 'enormous': False, 'horribly': False, 'energetic': False, 'wave': False, 'interaction': False, 'condition': False, 'banderas': False, 'jesus': False, 'reminds': False, 'restaurant': False, 'marks': False, 'fonda': False, 'betty': False, 'manager': False, 'negative': False, 'attraction': False, 'wing': False, 'randy': False, 'insult': False, 'everywhere': False, 'crucial': False, 'surreal': False, 'carol': False, 'learning': False, 'wallace': False, '1994': False, 'franchise': False, 'filming': False, 'gloria': False, 'village': False, 'butt': False, '\\x12': False, 'wins': False, 'malkovich': False, 'wahlberg': False, 'drag': False, 'craven': False, 'downright': False, 'gattaca': False, 'chasing': True, 'spirited': False, 'saves': False, '8mm': False, 'drags': False, 'welles': False, 'california': False, 'monsters': False, 'bathroom': False, 'france': False, 'ironically': False, 'levels': False, 'settle': False, 'basketball': False, 'satan': False, 'supernatural': False, 'sisters': False, 'treated': False, 'cauldron': False, 'handed': False, 'ensues': False, 'mountain': False, 'tricks': False, 'lethal': False, 'hackman': False, 'mildly': False, 'albert': False, 'stanley': False, 'throws': False, 'lifeless': False, 'jeffrey': False, 'consists': False, 'twin': False, 'delivered': False, 'sides': False, 'marie': False, 'denise': False, 'fool': False, 'braveheart': False, 'flight': False, 'k': False, 'palma': False, 'carrie': False, 'thompson': False, 'infamous': False, 'civil': False, 'received': False, 'millionaire': False, 'passes': False, 'snow': False, 'eyed': False, 'freeze': False, 'breathtaking': False, 'senses': False, 'delivering': False, 'diaz': False, 'bats': False, 'jamie': False, 'gain': False, 'allowing': False, 'murderer': False, 'delivery': False, 'altman': False, 'imagery': False, 'appropriately': False, 'pam': False, 'millions': False, 'paxton': False, 'bat': False, 'ho': False, 'garbage': False, 'luc': False, 'environment': False, 'ashley': False, 'gabriel': False, 'anger': False, 'finish': False, 'connery': False, 'un': False, 'impressed': False, 'enjoying': False, 'highlight': False, 'contain': False, 'cameos': False, 'wildly': False, 'snipes': False, 'lighting': False, 'richards': False, 'card': False, 'portrays': False, 'leo': False, 'lights': False, 'obi': False, 'closing': False, '70s': False, 'fears': False, 'gere': False, 'sleepy': False, 'frankenstein': False, 'birthday': False, 'network': False, 'invisible': False, 'staged': False, 'quentin': False, 'till': False, 'mass': False, 'letter': False, 'explored': False, 'confrontation': False, 'treats': False, 'kidnapped': False, 'finn': False, 'flashy': False, 'empire': False, 'instantly': False, 'compare': False, '90s': False, 'influence': False, 'kinds': False, '60': False, 'torn': False, 'jumps': False, 'orders': False, 'utter': False, 'stunt': False, 'travels': False, 'bird': False, 'inane': False, 'crazed': False, 'specifically': False, 'eerie': False, 'terrifying': False, 'committed': False, 'freddie': False, 'explaining': False, 'campy': False, 'ludicrous': False, 'month': False, 'caring': False}\n"
     ]
    }
   ],
   "source": [
    "print(search_features(docs[0][0]))"
   ]
  },
  {
   "cell_type": "code",
   "execution_count": null,
   "metadata": {},
   "outputs": [],
   "source": []
  }
 ],
 "metadata": {
  "kernelspec": {
   "display_name": "base",
   "language": "python",
   "name": "python3"
  },
  "language_info": {
   "codemirror_mode": {
    "name": "ipython",
    "version": 3
   },
   "file_extension": ".py",
   "mimetype": "text/x-python",
   "name": "python",
   "nbconvert_exporter": "python",
   "pygments_lexer": "ipython3",
   "version": "3.9.12"
  },
  "orig_nbformat": 4,
  "vscode": {
   "interpreter": {
    "hash": "47d7a3528df19f6d7d5b443030394cb1b3b5540a28bb20dc453d994d1e3e4878"
   }
  }
 },
 "nbformat": 4,
 "nbformat_minor": 2
}
